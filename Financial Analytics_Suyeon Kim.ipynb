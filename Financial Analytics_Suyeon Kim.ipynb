{
 "cells": [
  {
   "cell_type": "code",
   "execution_count": 12,
   "metadata": {},
   "outputs": [],
   "source": [
    "import pandas as pd\n",
    "from sklearn.model_selection import train_test_split\n",
    "import numpy as np\n",
    "from optbinning import OptimalBinning\n",
    "\n",
    "# Import the data\n",
    "accepts = pd.read_csv('/Users/suyeonkim/Documents/IAA/Spring 1/Financial Analytics/Homework1_FA/accepted_customers.csv')\n",
    "rejects = pd.read_csv('/Users/suyeonkim/Documents/IAA/Spring 1/Financial Analytics/Homework1_FA/rejected_customers.csv')\n",
    "\n",
    "# Split into train and test\n",
    "train, test = train_test_split(accepts, test_size = 0.30, random_state = 1234)\n"
   ]
  },
  {
   "cell_type": "markdown",
   "metadata": {},
   "source": [
    "# EDA & Data Cleaning"
   ]
  },
  {
   "cell_type": "code",
   "execution_count": 13,
   "metadata": {},
   "outputs": [
    {
     "data": {
      "text/plain": [
       "CHILDREN      0\n",
       "PERS_H        0\n",
       "AGE           0\n",
       "TMADD         0\n",
       "TMJOB1        0\n",
       "TEL           0\n",
       "NMBLOAN       0\n",
       "FINLOAN       0\n",
       "INCOME        0\n",
       "EC_CARD       0\n",
       "BUREAU        0\n",
       "LOCATION      0\n",
       "LOANS         0\n",
       "REGN          0\n",
       "DIV           0\n",
       "CASH          0\n",
       "PRODUCT      12\n",
       "RESID       535\n",
       "NAT           0\n",
       "PROF          1\n",
       "CAR           0\n",
       "CARDS         0\n",
       "GB            0\n",
       "_freq_        0\n",
       "dtype: int64"
      ]
     },
     "execution_count": 13,
     "metadata": {},
     "output_type": "execute_result"
    }
   ],
   "source": [
    "missing_values = accepts.isnull().sum()\n",
    "missing_values"
   ]
  },
  {
   "cell_type": "code",
   "execution_count": 14,
   "metadata": {},
   "outputs": [],
   "source": [
    "#Impute N/A\n",
    "accepts = accepts.fillna(\"Missing\")"
   ]
  },
  {
   "cell_type": "code",
   "execution_count": 15,
   "metadata": {},
   "outputs": [
    {
     "data": {
      "text/plain": [
       "CHILDREN    0\n",
       "PERS_H      0\n",
       "AGE         0\n",
       "TMADD       0\n",
       "TMJOB1      0\n",
       "TEL         0\n",
       "NMBLOAN     0\n",
       "FINLOAN     0\n",
       "INCOME      0\n",
       "EC_CARD     0\n",
       "BUREAU      0\n",
       "LOCATION    0\n",
       "LOANS       0\n",
       "REGN        0\n",
       "DIV         0\n",
       "CASH        0\n",
       "PRODUCT     0\n",
       "RESID       0\n",
       "NAT         0\n",
       "PROF        0\n",
       "CAR         0\n",
       "CARDS       0\n",
       "GB          0\n",
       "_freq_      0\n",
       "dtype: int64"
      ]
     },
     "execution_count": 15,
     "metadata": {},
     "output_type": "execute_result"
    }
   ],
   "source": [
    "# Check there is no missing value anymore\n",
    "missing_values = accepts.isnull().sum()\n",
    "missing_values"
   ]
  },
  {
   "cell_type": "code",
   "execution_count": 16,
   "metadata": {},
   "outputs": [
    {
     "name": "stdout",
     "output_type": "stream",
     "text": [
      "High Correlation Pairs (Correlation > 0.5):\n",
      "  Variable 1 Variable 2  Correlation\n",
      "0      LOANS     BUREAU    -0.647963\n",
      "1      CARDS    EC_CARD    -0.957574\n",
      "2        DIV       REGN     0.686616\n"
     ]
    }
   ],
   "source": [
    "# Define categorical and continuous variables\n",
    "continuous_variables = ['CASH', 'CHILDREN', 'INCOME', 'LOANS', 'TMADD', 'TMJOB1']\n",
    "categorical_variables = [\"BUREAU\", \"CAR\", \"CARDS\", \"DIV\", \"EC_CARD\", \"FINLOAN\", \"LOCATION\", \n",
    "                         \"PRODUCT\", \"PROF\", \"REGN\", \"RESID\", \"TEL\"]\n",
    "\n",
    "# Encode categorical variables as numeric\n",
    "df_encoded = accepts.copy()\n",
    "for col in categorical_variables:\n",
    "    df_encoded[col] = df_encoded[col].astype('category').cat.codes + 1\n",
    "\n",
    "# Combine continuous and encoded categorical variables\n",
    "all_variables = continuous_variables + categorical_variables\n",
    "\n",
    "# Calculate the correlation matrix\n",
    "correlation_matrix = df_encoded[all_variables].corr()\n",
    "\n",
    "# Find pairs with correlation > 0.5\n",
    "high_corr_pairs = []\n",
    "for i in range(correlation_matrix.shape[0]):\n",
    "    for j in range(i + 1, correlation_matrix.shape[1]):\n",
    "        if abs(correlation_matrix.iloc[i, j]) > 0.5:\n",
    "            high_corr_pairs.append({\n",
    "                'Variable 1': correlation_matrix.index[i],\n",
    "                'Variable 2': correlation_matrix.columns[j],\n",
    "                'Correlation': correlation_matrix.iloc[i, j]\n",
    "            })\n",
    "\n",
    "# Convert to DataFrame for better visualization\n",
    "high_corr_pairs_df = pd.DataFrame(high_corr_pairs)\n",
    "\n",
    "# Display the result\n",
    "if high_corr_pairs_df.empty:\n",
    "    print(\"No variable pairs with correlation greater than 0.5.\")\n",
    "else:\n",
    "    print(\"High Correlation Pairs (Correlation > 0.5):\")\n",
    "    print(high_corr_pairs_df)"
   ]
  },
  {
   "cell_type": "code",
   "execution_count": 17,
   "metadata": {},
   "outputs": [
    {
     "data": {
      "text/html": [
       "<div>\n",
       "<style scoped>\n",
       "    .dataframe tbody tr th:only-of-type {\n",
       "        vertical-align: middle;\n",
       "    }\n",
       "\n",
       "    .dataframe tbody tr th {\n",
       "        vertical-align: top;\n",
       "    }\n",
       "\n",
       "    .dataframe thead th {\n",
       "        text-align: right;\n",
       "    }\n",
       "</style>\n",
       "<table border=\"1\" class=\"dataframe\">\n",
       "  <thead>\n",
       "    <tr style=\"text-align: right;\">\n",
       "      <th></th>\n",
       "      <th>name</th>\n",
       "      <th>dtype</th>\n",
       "      <th>status</th>\n",
       "      <th>selected</th>\n",
       "      <th>n_bins</th>\n",
       "      <th>iv</th>\n",
       "    </tr>\n",
       "  </thead>\n",
       "  <tbody>\n",
       "    <tr>\n",
       "      <th>7</th>\n",
       "      <td>INCOME</td>\n",
       "      <td>numerical</td>\n",
       "      <td>OPTIMAL</td>\n",
       "      <td>True</td>\n",
       "      <td>8</td>\n",
       "      <td>0.268925</td>\n",
       "    </tr>\n",
       "    <tr>\n",
       "      <th>16</th>\n",
       "      <td>CARDS</td>\n",
       "      <td>categorical</td>\n",
       "      <td>OPTIMAL</td>\n",
       "      <td>True</td>\n",
       "      <td>2</td>\n",
       "      <td>0.189327</td>\n",
       "    </tr>\n",
       "    <tr>\n",
       "      <th>3</th>\n",
       "      <td>TMJOB1</td>\n",
       "      <td>numerical</td>\n",
       "      <td>OPTIMAL</td>\n",
       "      <td>True</td>\n",
       "      <td>8</td>\n",
       "      <td>0.17702</td>\n",
       "    </tr>\n",
       "    <tr>\n",
       "      <th>1</th>\n",
       "      <td>PERS_H</td>\n",
       "      <td>numerical</td>\n",
       "      <td>OPTIMAL</td>\n",
       "      <td>True</td>\n",
       "      <td>4</td>\n",
       "      <td>0.176798</td>\n",
       "    </tr>\n",
       "    <tr>\n",
       "      <th>4</th>\n",
       "      <td>TEL</td>\n",
       "      <td>categorical</td>\n",
       "      <td>OPTIMAL</td>\n",
       "      <td>False</td>\n",
       "      <td>2</td>\n",
       "      <td>0.057385</td>\n",
       "    </tr>\n",
       "    <tr>\n",
       "      <th>0</th>\n",
       "      <td>CHILDREN</td>\n",
       "      <td>numerical</td>\n",
       "      <td>OPTIMAL</td>\n",
       "      <td>False</td>\n",
       "      <td>4</td>\n",
       "      <td>0.047069</td>\n",
       "    </tr>\n",
       "    <tr>\n",
       "      <th>14</th>\n",
       "      <td>PROF</td>\n",
       "      <td>categorical</td>\n",
       "      <td>OPTIMAL</td>\n",
       "      <td>False</td>\n",
       "      <td>4</td>\n",
       "      <td>0.045712</td>\n",
       "    </tr>\n",
       "    <tr>\n",
       "      <th>2</th>\n",
       "      <td>TMADD</td>\n",
       "      <td>numerical</td>\n",
       "      <td>OPTIMAL</td>\n",
       "      <td>False</td>\n",
       "      <td>4</td>\n",
       "      <td>0.040261</td>\n",
       "    </tr>\n",
       "    <tr>\n",
       "      <th>11</th>\n",
       "      <td>CASH</td>\n",
       "      <td>numerical</td>\n",
       "      <td>OPTIMAL</td>\n",
       "      <td>False</td>\n",
       "      <td>6</td>\n",
       "      <td>0.035454</td>\n",
       "    </tr>\n",
       "    <tr>\n",
       "      <th>15</th>\n",
       "      <td>CAR</td>\n",
       "      <td>categorical</td>\n",
       "      <td>OPTIMAL</td>\n",
       "      <td>False</td>\n",
       "      <td>2</td>\n",
       "      <td>0.034375</td>\n",
       "    </tr>\n",
       "    <tr>\n",
       "      <th>5</th>\n",
       "      <td>NMBLOAN</td>\n",
       "      <td>numerical</td>\n",
       "      <td>OPTIMAL</td>\n",
       "      <td>False</td>\n",
       "      <td>2</td>\n",
       "      <td>0.033245</td>\n",
       "    </tr>\n",
       "    <tr>\n",
       "      <th>12</th>\n",
       "      <td>PRODUCT</td>\n",
       "      <td>categorical</td>\n",
       "      <td>OPTIMAL</td>\n",
       "      <td>False</td>\n",
       "      <td>4</td>\n",
       "      <td>0.030009</td>\n",
       "    </tr>\n",
       "    <tr>\n",
       "      <th>6</th>\n",
       "      <td>FINLOAN</td>\n",
       "      <td>categorical</td>\n",
       "      <td>OPTIMAL</td>\n",
       "      <td>False</td>\n",
       "      <td>2</td>\n",
       "      <td>0.021144</td>\n",
       "    </tr>\n",
       "    <tr>\n",
       "      <th>10</th>\n",
       "      <td>REGN</td>\n",
       "      <td>categorical</td>\n",
       "      <td>OPTIMAL</td>\n",
       "      <td>False</td>\n",
       "      <td>7</td>\n",
       "      <td>0.016274</td>\n",
       "    </tr>\n",
       "    <tr>\n",
       "      <th>9</th>\n",
       "      <td>LOANS</td>\n",
       "      <td>numerical</td>\n",
       "      <td>OPTIMAL</td>\n",
       "      <td>False</td>\n",
       "      <td>4</td>\n",
       "      <td>0.014652</td>\n",
       "    </tr>\n",
       "    <tr>\n",
       "      <th>13</th>\n",
       "      <td>RESID</td>\n",
       "      <td>categorical</td>\n",
       "      <td>OPTIMAL</td>\n",
       "      <td>False</td>\n",
       "      <td>1</td>\n",
       "      <td>0.000468</td>\n",
       "    </tr>\n",
       "    <tr>\n",
       "      <th>8</th>\n",
       "      <td>LOCATION</td>\n",
       "      <td>categorical</td>\n",
       "      <td>OPTIMAL</td>\n",
       "      <td>False</td>\n",
       "      <td>1</td>\n",
       "      <td>0.0</td>\n",
       "    </tr>\n",
       "  </tbody>\n",
       "</table>\n",
       "</div>"
      ],
      "text/plain": [
       "        name        dtype   status  selected n_bins        iv\n",
       "7     INCOME    numerical  OPTIMAL      True      8  0.268925\n",
       "16     CARDS  categorical  OPTIMAL      True      2  0.189327\n",
       "3     TMJOB1    numerical  OPTIMAL      True      8   0.17702\n",
       "1     PERS_H    numerical  OPTIMAL      True      4  0.176798\n",
       "4        TEL  categorical  OPTIMAL     False      2  0.057385\n",
       "0   CHILDREN    numerical  OPTIMAL     False      4  0.047069\n",
       "14      PROF  categorical  OPTIMAL     False      4  0.045712\n",
       "2      TMADD    numerical  OPTIMAL     False      4  0.040261\n",
       "11      CASH    numerical  OPTIMAL     False      6  0.035454\n",
       "15       CAR  categorical  OPTIMAL     False      2  0.034375\n",
       "5    NMBLOAN    numerical  OPTIMAL     False      2  0.033245\n",
       "12   PRODUCT  categorical  OPTIMAL     False      4  0.030009\n",
       "6    FINLOAN  categorical  OPTIMAL     False      2  0.021144\n",
       "10      REGN  categorical  OPTIMAL     False      7  0.016274\n",
       "9      LOANS    numerical  OPTIMAL     False      4  0.014652\n",
       "13     RESID  categorical  OPTIMAL     False      1  0.000468\n",
       "8   LOCATION  categorical  OPTIMAL     False      1       0.0"
      ]
     },
     "execution_count": 17,
     "metadata": {},
     "output_type": "execute_result"
    }
   ],
   "source": [
    "# Find optimal binning\n",
    "from optbinning import BinningProcess\n",
    "\n",
    "colnames =  list(train.columns[0:2]) + list(train.columns[3:18]) + list(train.columns[19:22])\n",
    "\n",
    "# Drop highly correlated columns\n",
    "colnames = [x for x in colnames if x != 'EC_CARD']\n",
    "colnames = [x for x in colnames if x != 'BUREAU']\n",
    "colnames = [x for x in colnames if x != 'DIV']\n",
    "X = train[colnames]\n",
    "y = train[\"GB\"]\n",
    "\n",
    "# Select important variables\n",
    "selection_criteria = {\"iv\": {\"min\": 0.1, \"max\": 1}}\n",
    "\n",
    "bin_proc = BinningProcess(colnames, selection_criteria = selection_criteria, categorical_variables = [\"BUREAU\", \"CAR\", \"CARDS\", \"DIV\", \"EC_CARD\", \"FINLOAN\", \"LOCATION\", \"NAT\", \"PRODUCT\", \"PROF\", \"REGN\", \"RESID\", \"TEL\"])\n",
    "\n",
    "iv_all = bin_proc.fit(X, y).summary()\n",
    "\n",
    "iv_all[iv_all.columns[0:6]].sort_values(by = [\"iv\"], ascending = False)"
   ]
  },
  {
   "cell_type": "code",
   "execution_count": 18,
   "metadata": {},
   "outputs": [
    {
     "data": {
      "text/html": [
       "<style>#sk-container-id-2 {\n",
       "  /* Definition of color scheme common for light and dark mode */\n",
       "  --sklearn-color-text: black;\n",
       "  --sklearn-color-line: gray;\n",
       "  /* Definition of color scheme for unfitted estimators */\n",
       "  --sklearn-color-unfitted-level-0: #fff5e6;\n",
       "  --sklearn-color-unfitted-level-1: #f6e4d2;\n",
       "  --sklearn-color-unfitted-level-2: #ffe0b3;\n",
       "  --sklearn-color-unfitted-level-3: chocolate;\n",
       "  /* Definition of color scheme for fitted estimators */\n",
       "  --sklearn-color-fitted-level-0: #f0f8ff;\n",
       "  --sklearn-color-fitted-level-1: #d4ebff;\n",
       "  --sklearn-color-fitted-level-2: #b3dbfd;\n",
       "  --sklearn-color-fitted-level-3: cornflowerblue;\n",
       "\n",
       "  /* Specific color for light theme */\n",
       "  --sklearn-color-text-on-default-background: var(--sg-text-color, var(--theme-code-foreground, var(--jp-content-font-color1, black)));\n",
       "  --sklearn-color-background: var(--sg-background-color, var(--theme-background, var(--jp-layout-color0, white)));\n",
       "  --sklearn-color-border-box: var(--sg-text-color, var(--theme-code-foreground, var(--jp-content-font-color1, black)));\n",
       "  --sklearn-color-icon: #696969;\n",
       "\n",
       "  @media (prefers-color-scheme: dark) {\n",
       "    /* Redefinition of color scheme for dark theme */\n",
       "    --sklearn-color-text-on-default-background: var(--sg-text-color, var(--theme-code-foreground, var(--jp-content-font-color1, white)));\n",
       "    --sklearn-color-background: var(--sg-background-color, var(--theme-background, var(--jp-layout-color0, #111)));\n",
       "    --sklearn-color-border-box: var(--sg-text-color, var(--theme-code-foreground, var(--jp-content-font-color1, white)));\n",
       "    --sklearn-color-icon: #878787;\n",
       "  }\n",
       "}\n",
       "\n",
       "#sk-container-id-2 {\n",
       "  color: var(--sklearn-color-text);\n",
       "}\n",
       "\n",
       "#sk-container-id-2 pre {\n",
       "  padding: 0;\n",
       "}\n",
       "\n",
       "#sk-container-id-2 input.sk-hidden--visually {\n",
       "  border: 0;\n",
       "  clip: rect(1px 1px 1px 1px);\n",
       "  clip: rect(1px, 1px, 1px, 1px);\n",
       "  height: 1px;\n",
       "  margin: -1px;\n",
       "  overflow: hidden;\n",
       "  padding: 0;\n",
       "  position: absolute;\n",
       "  width: 1px;\n",
       "}\n",
       "\n",
       "#sk-container-id-2 div.sk-dashed-wrapped {\n",
       "  border: 1px dashed var(--sklearn-color-line);\n",
       "  margin: 0 0.4em 0.5em 0.4em;\n",
       "  box-sizing: border-box;\n",
       "  padding-bottom: 0.4em;\n",
       "  background-color: var(--sklearn-color-background);\n",
       "}\n",
       "\n",
       "#sk-container-id-2 div.sk-container {\n",
       "  /* jupyter's `normalize.less` sets `[hidden] { display: none; }`\n",
       "     but bootstrap.min.css set `[hidden] { display: none !important; }`\n",
       "     so we also need the `!important` here to be able to override the\n",
       "     default hidden behavior on the sphinx rendered scikit-learn.org.\n",
       "     See: https://github.com/scikit-learn/scikit-learn/issues/21755 */\n",
       "  display: inline-block !important;\n",
       "  position: relative;\n",
       "}\n",
       "\n",
       "#sk-container-id-2 div.sk-text-repr-fallback {\n",
       "  display: none;\n",
       "}\n",
       "\n",
       "div.sk-parallel-item,\n",
       "div.sk-serial,\n",
       "div.sk-item {\n",
       "  /* draw centered vertical line to link estimators */\n",
       "  background-image: linear-gradient(var(--sklearn-color-text-on-default-background), var(--sklearn-color-text-on-default-background));\n",
       "  background-size: 2px 100%;\n",
       "  background-repeat: no-repeat;\n",
       "  background-position: center center;\n",
       "}\n",
       "\n",
       "/* Parallel-specific style estimator block */\n",
       "\n",
       "#sk-container-id-2 div.sk-parallel-item::after {\n",
       "  content: \"\";\n",
       "  width: 100%;\n",
       "  border-bottom: 2px solid var(--sklearn-color-text-on-default-background);\n",
       "  flex-grow: 1;\n",
       "}\n",
       "\n",
       "#sk-container-id-2 div.sk-parallel {\n",
       "  display: flex;\n",
       "  align-items: stretch;\n",
       "  justify-content: center;\n",
       "  background-color: var(--sklearn-color-background);\n",
       "  position: relative;\n",
       "}\n",
       "\n",
       "#sk-container-id-2 div.sk-parallel-item {\n",
       "  display: flex;\n",
       "  flex-direction: column;\n",
       "}\n",
       "\n",
       "#sk-container-id-2 div.sk-parallel-item:first-child::after {\n",
       "  align-self: flex-end;\n",
       "  width: 50%;\n",
       "}\n",
       "\n",
       "#sk-container-id-2 div.sk-parallel-item:last-child::after {\n",
       "  align-self: flex-start;\n",
       "  width: 50%;\n",
       "}\n",
       "\n",
       "#sk-container-id-2 div.sk-parallel-item:only-child::after {\n",
       "  width: 0;\n",
       "}\n",
       "\n",
       "/* Serial-specific style estimator block */\n",
       "\n",
       "#sk-container-id-2 div.sk-serial {\n",
       "  display: flex;\n",
       "  flex-direction: column;\n",
       "  align-items: center;\n",
       "  background-color: var(--sklearn-color-background);\n",
       "  padding-right: 1em;\n",
       "  padding-left: 1em;\n",
       "}\n",
       "\n",
       "\n",
       "/* Toggleable style: style used for estimator/Pipeline/ColumnTransformer box that is\n",
       "clickable and can be expanded/collapsed.\n",
       "- Pipeline and ColumnTransformer use this feature and define the default style\n",
       "- Estimators will overwrite some part of the style using the `sk-estimator` class\n",
       "*/\n",
       "\n",
       "/* Pipeline and ColumnTransformer style (default) */\n",
       "\n",
       "#sk-container-id-2 div.sk-toggleable {\n",
       "  /* Default theme specific background. It is overwritten whether we have a\n",
       "  specific estimator or a Pipeline/ColumnTransformer */\n",
       "  background-color: var(--sklearn-color-background);\n",
       "}\n",
       "\n",
       "/* Toggleable label */\n",
       "#sk-container-id-2 label.sk-toggleable__label {\n",
       "  cursor: pointer;\n",
       "  display: block;\n",
       "  width: 100%;\n",
       "  margin-bottom: 0;\n",
       "  padding: 0.5em;\n",
       "  box-sizing: border-box;\n",
       "  text-align: center;\n",
       "}\n",
       "\n",
       "#sk-container-id-2 label.sk-toggleable__label-arrow:before {\n",
       "  /* Arrow on the left of the label */\n",
       "  content: \"▸\";\n",
       "  float: left;\n",
       "  margin-right: 0.25em;\n",
       "  color: var(--sklearn-color-icon);\n",
       "}\n",
       "\n",
       "#sk-container-id-2 label.sk-toggleable__label-arrow:hover:before {\n",
       "  color: var(--sklearn-color-text);\n",
       "}\n",
       "\n",
       "/* Toggleable content - dropdown */\n",
       "\n",
       "#sk-container-id-2 div.sk-toggleable__content {\n",
       "  max-height: 0;\n",
       "  max-width: 0;\n",
       "  overflow: hidden;\n",
       "  text-align: left;\n",
       "  /* unfitted */\n",
       "  background-color: var(--sklearn-color-unfitted-level-0);\n",
       "}\n",
       "\n",
       "#sk-container-id-2 div.sk-toggleable__content.fitted {\n",
       "  /* fitted */\n",
       "  background-color: var(--sklearn-color-fitted-level-0);\n",
       "}\n",
       "\n",
       "#sk-container-id-2 div.sk-toggleable__content pre {\n",
       "  margin: 0.2em;\n",
       "  border-radius: 0.25em;\n",
       "  color: var(--sklearn-color-text);\n",
       "  /* unfitted */\n",
       "  background-color: var(--sklearn-color-unfitted-level-0);\n",
       "}\n",
       "\n",
       "#sk-container-id-2 div.sk-toggleable__content.fitted pre {\n",
       "  /* unfitted */\n",
       "  background-color: var(--sklearn-color-fitted-level-0);\n",
       "}\n",
       "\n",
       "#sk-container-id-2 input.sk-toggleable__control:checked~div.sk-toggleable__content {\n",
       "  /* Expand drop-down */\n",
       "  max-height: 200px;\n",
       "  max-width: 100%;\n",
       "  overflow: auto;\n",
       "}\n",
       "\n",
       "#sk-container-id-2 input.sk-toggleable__control:checked~label.sk-toggleable__label-arrow:before {\n",
       "  content: \"▾\";\n",
       "}\n",
       "\n",
       "/* Pipeline/ColumnTransformer-specific style */\n",
       "\n",
       "#sk-container-id-2 div.sk-label input.sk-toggleable__control:checked~label.sk-toggleable__label {\n",
       "  color: var(--sklearn-color-text);\n",
       "  background-color: var(--sklearn-color-unfitted-level-2);\n",
       "}\n",
       "\n",
       "#sk-container-id-2 div.sk-label.fitted input.sk-toggleable__control:checked~label.sk-toggleable__label {\n",
       "  background-color: var(--sklearn-color-fitted-level-2);\n",
       "}\n",
       "\n",
       "/* Estimator-specific style */\n",
       "\n",
       "/* Colorize estimator box */\n",
       "#sk-container-id-2 div.sk-estimator input.sk-toggleable__control:checked~label.sk-toggleable__label {\n",
       "  /* unfitted */\n",
       "  background-color: var(--sklearn-color-unfitted-level-2);\n",
       "}\n",
       "\n",
       "#sk-container-id-2 div.sk-estimator.fitted input.sk-toggleable__control:checked~label.sk-toggleable__label {\n",
       "  /* fitted */\n",
       "  background-color: var(--sklearn-color-fitted-level-2);\n",
       "}\n",
       "\n",
       "#sk-container-id-2 div.sk-label label.sk-toggleable__label,\n",
       "#sk-container-id-2 div.sk-label label {\n",
       "  /* The background is the default theme color */\n",
       "  color: var(--sklearn-color-text-on-default-background);\n",
       "}\n",
       "\n",
       "/* On hover, darken the color of the background */\n",
       "#sk-container-id-2 div.sk-label:hover label.sk-toggleable__label {\n",
       "  color: var(--sklearn-color-text);\n",
       "  background-color: var(--sklearn-color-unfitted-level-2);\n",
       "}\n",
       "\n",
       "/* Label box, darken color on hover, fitted */\n",
       "#sk-container-id-2 div.sk-label.fitted:hover label.sk-toggleable__label.fitted {\n",
       "  color: var(--sklearn-color-text);\n",
       "  background-color: var(--sklearn-color-fitted-level-2);\n",
       "}\n",
       "\n",
       "/* Estimator label */\n",
       "\n",
       "#sk-container-id-2 div.sk-label label {\n",
       "  font-family: monospace;\n",
       "  font-weight: bold;\n",
       "  display: inline-block;\n",
       "  line-height: 1.2em;\n",
       "}\n",
       "\n",
       "#sk-container-id-2 div.sk-label-container {\n",
       "  text-align: center;\n",
       "}\n",
       "\n",
       "/* Estimator-specific */\n",
       "#sk-container-id-2 div.sk-estimator {\n",
       "  font-family: monospace;\n",
       "  border: 1px dotted var(--sklearn-color-border-box);\n",
       "  border-radius: 0.25em;\n",
       "  box-sizing: border-box;\n",
       "  margin-bottom: 0.5em;\n",
       "  /* unfitted */\n",
       "  background-color: var(--sklearn-color-unfitted-level-0);\n",
       "}\n",
       "\n",
       "#sk-container-id-2 div.sk-estimator.fitted {\n",
       "  /* fitted */\n",
       "  background-color: var(--sklearn-color-fitted-level-0);\n",
       "}\n",
       "\n",
       "/* on hover */\n",
       "#sk-container-id-2 div.sk-estimator:hover {\n",
       "  /* unfitted */\n",
       "  background-color: var(--sklearn-color-unfitted-level-2);\n",
       "}\n",
       "\n",
       "#sk-container-id-2 div.sk-estimator.fitted:hover {\n",
       "  /* fitted */\n",
       "  background-color: var(--sklearn-color-fitted-level-2);\n",
       "}\n",
       "\n",
       "/* Specification for estimator info (e.g. \"i\" and \"?\") */\n",
       "\n",
       "/* Common style for \"i\" and \"?\" */\n",
       "\n",
       ".sk-estimator-doc-link,\n",
       "a:link.sk-estimator-doc-link,\n",
       "a:visited.sk-estimator-doc-link {\n",
       "  float: right;\n",
       "  font-size: smaller;\n",
       "  line-height: 1em;\n",
       "  font-family: monospace;\n",
       "  background-color: var(--sklearn-color-background);\n",
       "  border-radius: 1em;\n",
       "  height: 1em;\n",
       "  width: 1em;\n",
       "  text-decoration: none !important;\n",
       "  margin-left: 1ex;\n",
       "  /* unfitted */\n",
       "  border: var(--sklearn-color-unfitted-level-1) 1pt solid;\n",
       "  color: var(--sklearn-color-unfitted-level-1);\n",
       "}\n",
       "\n",
       ".sk-estimator-doc-link.fitted,\n",
       "a:link.sk-estimator-doc-link.fitted,\n",
       "a:visited.sk-estimator-doc-link.fitted {\n",
       "  /* fitted */\n",
       "  border: var(--sklearn-color-fitted-level-1) 1pt solid;\n",
       "  color: var(--sklearn-color-fitted-level-1);\n",
       "}\n",
       "\n",
       "/* On hover */\n",
       "div.sk-estimator:hover .sk-estimator-doc-link:hover,\n",
       ".sk-estimator-doc-link:hover,\n",
       "div.sk-label-container:hover .sk-estimator-doc-link:hover,\n",
       ".sk-estimator-doc-link:hover {\n",
       "  /* unfitted */\n",
       "  background-color: var(--sklearn-color-unfitted-level-3);\n",
       "  color: var(--sklearn-color-background);\n",
       "  text-decoration: none;\n",
       "}\n",
       "\n",
       "div.sk-estimator.fitted:hover .sk-estimator-doc-link.fitted:hover,\n",
       ".sk-estimator-doc-link.fitted:hover,\n",
       "div.sk-label-container:hover .sk-estimator-doc-link.fitted:hover,\n",
       ".sk-estimator-doc-link.fitted:hover {\n",
       "  /* fitted */\n",
       "  background-color: var(--sklearn-color-fitted-level-3);\n",
       "  color: var(--sklearn-color-background);\n",
       "  text-decoration: none;\n",
       "}\n",
       "\n",
       "/* Span, style for the box shown on hovering the info icon */\n",
       ".sk-estimator-doc-link span {\n",
       "  display: none;\n",
       "  z-index: 9999;\n",
       "  position: relative;\n",
       "  font-weight: normal;\n",
       "  right: .2ex;\n",
       "  padding: .5ex;\n",
       "  margin: .5ex;\n",
       "  width: min-content;\n",
       "  min-width: 20ex;\n",
       "  max-width: 50ex;\n",
       "  color: var(--sklearn-color-text);\n",
       "  box-shadow: 2pt 2pt 4pt #999;\n",
       "  /* unfitted */\n",
       "  background: var(--sklearn-color-unfitted-level-0);\n",
       "  border: .5pt solid var(--sklearn-color-unfitted-level-3);\n",
       "}\n",
       "\n",
       ".sk-estimator-doc-link.fitted span {\n",
       "  /* fitted */\n",
       "  background: var(--sklearn-color-fitted-level-0);\n",
       "  border: var(--sklearn-color-fitted-level-3);\n",
       "}\n",
       "\n",
       ".sk-estimator-doc-link:hover span {\n",
       "  display: block;\n",
       "}\n",
       "\n",
       "/* \"?\"-specific style due to the `<a>` HTML tag */\n",
       "\n",
       "#sk-container-id-2 a.estimator_doc_link {\n",
       "  float: right;\n",
       "  font-size: 1rem;\n",
       "  line-height: 1em;\n",
       "  font-family: monospace;\n",
       "  background-color: var(--sklearn-color-background);\n",
       "  border-radius: 1rem;\n",
       "  height: 1rem;\n",
       "  width: 1rem;\n",
       "  text-decoration: none;\n",
       "  /* unfitted */\n",
       "  color: var(--sklearn-color-unfitted-level-1);\n",
       "  border: var(--sklearn-color-unfitted-level-1) 1pt solid;\n",
       "}\n",
       "\n",
       "#sk-container-id-2 a.estimator_doc_link.fitted {\n",
       "  /* fitted */\n",
       "  border: var(--sklearn-color-fitted-level-1) 1pt solid;\n",
       "  color: var(--sklearn-color-fitted-level-1);\n",
       "}\n",
       "\n",
       "/* On hover */\n",
       "#sk-container-id-2 a.estimator_doc_link:hover {\n",
       "  /* unfitted */\n",
       "  background-color: var(--sklearn-color-unfitted-level-3);\n",
       "  color: var(--sklearn-color-background);\n",
       "  text-decoration: none;\n",
       "}\n",
       "\n",
       "#sk-container-id-2 a.estimator_doc_link.fitted:hover {\n",
       "  /* fitted */\n",
       "  background-color: var(--sklearn-color-fitted-level-3);\n",
       "}\n",
       "</style><div id=\"sk-container-id-2\" class=\"sk-top-container\"><div class=\"sk-text-repr-fallback\"><pre>Scorecard(binning_process=BinningProcess(categorical_variables=[&#x27;BUREAU&#x27;, &#x27;CAR&#x27;,\n",
       "                                                                &#x27;CARDS&#x27;, &#x27;DIV&#x27;,\n",
       "                                                                &#x27;EC_CARD&#x27;,\n",
       "                                                                &#x27;FINLOAN&#x27;,\n",
       "                                                                &#x27;LOCATION&#x27;,\n",
       "                                                                &#x27;NAT&#x27;,\n",
       "                                                                &#x27;PRODUCT&#x27;,\n",
       "                                                                &#x27;PROF&#x27;, &#x27;REGN&#x27;,\n",
       "                                                                &#x27;RESID&#x27;,\n",
       "                                                                &#x27;TEL&#x27;],\n",
       "                                         selection_criteria={&#x27;iv&#x27;: {&#x27;max&#x27;: 1,\n",
       "                                                                    &#x27;min&#x27;: 0.1}},\n",
       "                                         variable_names=[&#x27;CHILDREN&#x27;, &#x27;PERS_H&#x27;,\n",
       "                                                         &#x27;TMADD&#x27;, &#x27;TMJOB1&#x27;,\n",
       "                                                         &#x27;TEL&#x27;, &#x27;NMBLOAN&#x27;,\n",
       "                                                         &#x27;FINLOAN&#x27;, &#x27;INCOME&#x27;,\n",
       "                                                         &#x27;LOCATION&#x27;, &#x27;LOANS&#x27;,\n",
       "                                                         &#x27;REGN&#x27;, &#x27;CASH&#x27;,\n",
       "                                                         &#x27;PRODUCT&#x27;, &#x27;RESID&#x27;,\n",
       "                                                         &#x27;PROF&#x27;, &#x27;CAR&#x27;,\n",
       "                                                         &#x27;CARDS&#x27;]),\n",
       "          estimator=LogisticRegression(), scaling_method=&#x27;pdo_odds&#x27;,\n",
       "          scaling_method_params={&#x27;odds&#x27;: 20, &#x27;pdo&#x27;: 50,\n",
       "                                 &#x27;scorecard_points&#x27;: 500})</pre><b>In a Jupyter environment, please rerun this cell to show the HTML representation or trust the notebook. <br />On GitHub, the HTML representation is unable to render, please try loading this page with nbviewer.org.</b></div><div class=\"sk-container\" hidden><div class=\"sk-item sk-dashed-wrapped\"><div class=\"sk-label-container\"><div class=\"sk-label fitted sk-toggleable\"><input class=\"sk-toggleable__control sk-hidden--visually\" id=\"sk-estimator-id-6\" type=\"checkbox\" ><label for=\"sk-estimator-id-6\" class=\"sk-toggleable__label fitted sk-toggleable__label-arrow fitted\">&nbsp;Scorecard<span class=\"sk-estimator-doc-link fitted\">i<span>Fitted</span></span></label><div class=\"sk-toggleable__content fitted\"><pre>Scorecard(binning_process=BinningProcess(categorical_variables=[&#x27;BUREAU&#x27;, &#x27;CAR&#x27;,\n",
       "                                                                &#x27;CARDS&#x27;, &#x27;DIV&#x27;,\n",
       "                                                                &#x27;EC_CARD&#x27;,\n",
       "                                                                &#x27;FINLOAN&#x27;,\n",
       "                                                                &#x27;LOCATION&#x27;,\n",
       "                                                                &#x27;NAT&#x27;,\n",
       "                                                                &#x27;PRODUCT&#x27;,\n",
       "                                                                &#x27;PROF&#x27;, &#x27;REGN&#x27;,\n",
       "                                                                &#x27;RESID&#x27;,\n",
       "                                                                &#x27;TEL&#x27;],\n",
       "                                         selection_criteria={&#x27;iv&#x27;: {&#x27;max&#x27;: 1,\n",
       "                                                                    &#x27;min&#x27;: 0.1}},\n",
       "                                         variable_names=[&#x27;CHILDREN&#x27;, &#x27;PERS_H&#x27;,\n",
       "                                                         &#x27;TMADD&#x27;, &#x27;TMJOB1&#x27;,\n",
       "                                                         &#x27;TEL&#x27;, &#x27;NMBLOAN&#x27;,\n",
       "                                                         &#x27;FINLOAN&#x27;, &#x27;INCOME&#x27;,\n",
       "                                                         &#x27;LOCATION&#x27;, &#x27;LOANS&#x27;,\n",
       "                                                         &#x27;REGN&#x27;, &#x27;CASH&#x27;,\n",
       "                                                         &#x27;PRODUCT&#x27;, &#x27;RESID&#x27;,\n",
       "                                                         &#x27;PROF&#x27;, &#x27;CAR&#x27;,\n",
       "                                                         &#x27;CARDS&#x27;]),\n",
       "          estimator=LogisticRegression(), scaling_method=&#x27;pdo_odds&#x27;,\n",
       "          scaling_method_params={&#x27;odds&#x27;: 20, &#x27;pdo&#x27;: 50,\n",
       "                                 &#x27;scorecard_points&#x27;: 500})</pre></div> </div></div><div class=\"sk-parallel\"><div class=\"sk-parallel-item\"><div class=\"sk-item\"><div class=\"sk-label-container\"><div class=\"sk-label fitted sk-toggleable\"><input class=\"sk-toggleable__control sk-hidden--visually\" id=\"sk-estimator-id-7\" type=\"checkbox\" ><label for=\"sk-estimator-id-7\" class=\"sk-toggleable__label fitted sk-toggleable__label-arrow fitted\">binning_process: BinningProcess</label><div class=\"sk-toggleable__content fitted\"><pre>BinningProcess(categorical_variables=[&#x27;BUREAU&#x27;, &#x27;CAR&#x27;, &#x27;CARDS&#x27;, &#x27;DIV&#x27;,\n",
       "                                      &#x27;EC_CARD&#x27;, &#x27;FINLOAN&#x27;, &#x27;LOCATION&#x27;, &#x27;NAT&#x27;,\n",
       "                                      &#x27;PRODUCT&#x27;, &#x27;PROF&#x27;, &#x27;REGN&#x27;, &#x27;RESID&#x27;,\n",
       "                                      &#x27;TEL&#x27;],\n",
       "               selection_criteria={&#x27;iv&#x27;: {&#x27;max&#x27;: 1, &#x27;min&#x27;: 0.1}},\n",
       "               variable_names=[&#x27;CHILDREN&#x27;, &#x27;PERS_H&#x27;, &#x27;TMADD&#x27;, &#x27;TMJOB1&#x27;, &#x27;TEL&#x27;,\n",
       "                               &#x27;NMBLOAN&#x27;, &#x27;FINLOAN&#x27;, &#x27;INCOME&#x27;, &#x27;LOCATION&#x27;,\n",
       "                               &#x27;LOANS&#x27;, &#x27;REGN&#x27;, &#x27;CASH&#x27;, &#x27;PRODUCT&#x27;, &#x27;RESID&#x27;,\n",
       "                               &#x27;PROF&#x27;, &#x27;CAR&#x27;, &#x27;CARDS&#x27;])</pre></div> </div></div><div class=\"sk-serial\"><div class=\"sk-item\"><div class=\"sk-estimator fitted sk-toggleable\"><input class=\"sk-toggleable__control sk-hidden--visually\" id=\"sk-estimator-id-8\" type=\"checkbox\" ><label for=\"sk-estimator-id-8\" class=\"sk-toggleable__label fitted sk-toggleable__label-arrow fitted\">BinningProcess</label><div class=\"sk-toggleable__content fitted\"><pre>BinningProcess(categorical_variables=[&#x27;BUREAU&#x27;, &#x27;CAR&#x27;, &#x27;CARDS&#x27;, &#x27;DIV&#x27;,\n",
       "                                      &#x27;EC_CARD&#x27;, &#x27;FINLOAN&#x27;, &#x27;LOCATION&#x27;, &#x27;NAT&#x27;,\n",
       "                                      &#x27;PRODUCT&#x27;, &#x27;PROF&#x27;, &#x27;REGN&#x27;, &#x27;RESID&#x27;,\n",
       "                                      &#x27;TEL&#x27;],\n",
       "               selection_criteria={&#x27;iv&#x27;: {&#x27;max&#x27;: 1, &#x27;min&#x27;: 0.1}},\n",
       "               variable_names=[&#x27;CHILDREN&#x27;, &#x27;PERS_H&#x27;, &#x27;TMADD&#x27;, &#x27;TMJOB1&#x27;, &#x27;TEL&#x27;,\n",
       "                               &#x27;NMBLOAN&#x27;, &#x27;FINLOAN&#x27;, &#x27;INCOME&#x27;, &#x27;LOCATION&#x27;,\n",
       "                               &#x27;LOANS&#x27;, &#x27;REGN&#x27;, &#x27;CASH&#x27;, &#x27;PRODUCT&#x27;, &#x27;RESID&#x27;,\n",
       "                               &#x27;PROF&#x27;, &#x27;CAR&#x27;, &#x27;CARDS&#x27;])</pre></div> </div></div></div></div></div><div class=\"sk-parallel-item\"><div class=\"sk-item\"><div class=\"sk-label-container\"><div class=\"sk-label fitted sk-toggleable\"><input class=\"sk-toggleable__control sk-hidden--visually\" id=\"sk-estimator-id-9\" type=\"checkbox\" ><label for=\"sk-estimator-id-9\" class=\"sk-toggleable__label fitted sk-toggleable__label-arrow fitted\">estimator: LogisticRegression</label><div class=\"sk-toggleable__content fitted\"><pre>LogisticRegression()</pre></div> </div></div><div class=\"sk-serial\"><div class=\"sk-item\"><div class=\"sk-estimator fitted sk-toggleable\"><input class=\"sk-toggleable__control sk-hidden--visually\" id=\"sk-estimator-id-10\" type=\"checkbox\" ><label for=\"sk-estimator-id-10\" class=\"sk-toggleable__label fitted sk-toggleable__label-arrow fitted\">&nbsp;LogisticRegression<a class=\"sk-estimator-doc-link fitted\" rel=\"noreferrer\" target=\"_blank\" href=\"https://scikit-learn.org/1.5/modules/generated/sklearn.linear_model.LogisticRegression.html\">?<span>Documentation for LogisticRegression</span></a></label><div class=\"sk-toggleable__content fitted\"><pre>LogisticRegression()</pre></div> </div></div></div></div></div></div></div></div></div>"
      ],
      "text/plain": [
       "Scorecard(binning_process=BinningProcess(categorical_variables=['BUREAU', 'CAR',\n",
       "                                                                'CARDS', 'DIV',\n",
       "                                                                'EC_CARD',\n",
       "                                                                'FINLOAN',\n",
       "                                                                'LOCATION',\n",
       "                                                                'NAT',\n",
       "                                                                'PRODUCT',\n",
       "                                                                'PROF', 'REGN',\n",
       "                                                                'RESID',\n",
       "                                                                'TEL'],\n",
       "                                         selection_criteria={'iv': {'max': 1,\n",
       "                                                                    'min': 0.1}},\n",
       "                                         variable_names=['CHILDREN', 'PERS_H',\n",
       "                                                         'TMADD', 'TMJOB1',\n",
       "                                                         'TEL', 'NMBLOAN',\n",
       "                                                         'FINLOAN', 'INCOME',\n",
       "                                                         'LOCATION', 'LOANS',\n",
       "                                                         'REGN', 'CASH',\n",
       "                                                         'PRODUCT', 'RESID',\n",
       "                                                         'PROF', 'CAR',\n",
       "                                                         'CARDS']),\n",
       "          estimator=LogisticRegression(), scaling_method='pdo_odds',\n",
       "          scaling_method_params={'odds': 20, 'pdo': 50,\n",
       "                                 'scorecard_points': 500})"
      ]
     },
     "execution_count": 18,
     "metadata": {},
     "output_type": "execute_result"
    }
   ],
   "source": [
    "from optbinning import Scorecard\n",
    "from sklearn.linear_model import LogisticRegression\n",
    "\n",
    "estimator = LogisticRegression(solver = \"lbfgs\")\n",
    "\n",
    "scorecard = Scorecard(binning_process = bin_proc,\n",
    "                      estimator = estimator, scaling_method = \"pdo_odds\",\n",
    "                      scaling_method_params = {\"pdo\": 50, \n",
    "                      \"scorecard_points\": 500, \"odds\": 20})\n",
    "                    \n",
    "\n",
    "scorecard.fit(X, y, sample_weight = train[\"_freq_\"])"
   ]
  },
  {
   "cell_type": "code",
   "execution_count": 19,
   "metadata": {},
   "outputs": [
    {
     "data": {
      "text/html": [
       "<div>\n",
       "<style scoped>\n",
       "    .dataframe tbody tr th:only-of-type {\n",
       "        vertical-align: middle;\n",
       "    }\n",
       "\n",
       "    .dataframe tbody tr th {\n",
       "        vertical-align: top;\n",
       "    }\n",
       "\n",
       "    .dataframe thead th {\n",
       "        text-align: right;\n",
       "    }\n",
       "</style>\n",
       "<table border=\"1\" class=\"dataframe\">\n",
       "  <thead>\n",
       "    <tr style=\"text-align: right;\">\n",
       "      <th></th>\n",
       "      <th>Variable</th>\n",
       "      <th>Bin id</th>\n",
       "      <th>Bin</th>\n",
       "      <th>Count</th>\n",
       "      <th>Count (%)</th>\n",
       "      <th>Non-event</th>\n",
       "      <th>Event</th>\n",
       "      <th>Event rate</th>\n",
       "      <th>WoE</th>\n",
       "      <th>IV</th>\n",
       "      <th>JS</th>\n",
       "      <th>Coefficient</th>\n",
       "      <th>Points</th>\n",
       "    </tr>\n",
       "  </thead>\n",
       "  <tbody>\n",
       "    <tr>\n",
       "      <th>0</th>\n",
       "      <td>PERS_H</td>\n",
       "      <td>0</td>\n",
       "      <td>(-inf, 1.50)</td>\n",
       "      <td>9132</td>\n",
       "      <td>0.279309</td>\n",
       "      <td>8640</td>\n",
       "      <td>492</td>\n",
       "      <td>0.053876</td>\n",
       "      <td>-0.545042</td>\n",
       "      <td>0.107824</td>\n",
       "      <td>1.331366e-02</td>\n",
       "      <td>-0.798730</td>\n",
       "      <td>101.058373</td>\n",
       "    </tr>\n",
       "    <tr>\n",
       "      <th>1</th>\n",
       "      <td>PERS_H</td>\n",
       "      <td>1</td>\n",
       "      <td>[1.50, 2.50)</td>\n",
       "      <td>8309</td>\n",
       "      <td>0.254137</td>\n",
       "      <td>8130</td>\n",
       "      <td>179</td>\n",
       "      <td>0.021543</td>\n",
       "      <td>0.405209</td>\n",
       "      <td>0.034678</td>\n",
       "      <td>4.305319e-03</td>\n",
       "      <td>-0.798730</td>\n",
       "      <td>155.808216</td>\n",
       "    </tr>\n",
       "    <tr>\n",
       "      <th>2</th>\n",
       "      <td>PERS_H</td>\n",
       "      <td>2</td>\n",
       "      <td>[2.50, 4.50)</td>\n",
       "      <td>13150</td>\n",
       "      <td>0.402202</td>\n",
       "      <td>12840</td>\n",
       "      <td>310</td>\n",
       "      <td>0.023574</td>\n",
       "      <td>0.313027</td>\n",
       "      <td>0.034131</td>\n",
       "      <td>4.249087e-03</td>\n",
       "      <td>-0.798730</td>\n",
       "      <td>150.497035</td>\n",
       "    </tr>\n",
       "    <tr>\n",
       "      <th>3</th>\n",
       "      <td>PERS_H</td>\n",
       "      <td>3</td>\n",
       "      <td>[4.50, inf)</td>\n",
       "      <td>2104</td>\n",
       "      <td>0.064352</td>\n",
       "      <td>2040</td>\n",
       "      <td>64</td>\n",
       "      <td>0.030418</td>\n",
       "      <td>0.051101</td>\n",
       "      <td>0.000164</td>\n",
       "      <td>2.050805e-05</td>\n",
       "      <td>-0.798730</td>\n",
       "      <td>135.405845</td>\n",
       "    </tr>\n",
       "    <tr>\n",
       "      <th>4</th>\n",
       "      <td>PERS_H</td>\n",
       "      <td>4</td>\n",
       "      <td>Special</td>\n",
       "      <td>0</td>\n",
       "      <td>0.000000</td>\n",
       "      <td>0</td>\n",
       "      <td>0</td>\n",
       "      <td>0.000000</td>\n",
       "      <td>0.000000</td>\n",
       "      <td>0.000000</td>\n",
       "      <td>0.000000e+00</td>\n",
       "      <td>-0.798730</td>\n",
       "      <td>132.461615</td>\n",
       "    </tr>\n",
       "    <tr>\n",
       "      <th>5</th>\n",
       "      <td>PERS_H</td>\n",
       "      <td>5</td>\n",
       "      <td>Missing</td>\n",
       "      <td>0</td>\n",
       "      <td>0.000000</td>\n",
       "      <td>0</td>\n",
       "      <td>0</td>\n",
       "      <td>0.000000</td>\n",
       "      <td>0.000000</td>\n",
       "      <td>0.000000</td>\n",
       "      <td>0.000000e+00</td>\n",
       "      <td>-0.798730</td>\n",
       "      <td>132.461615</td>\n",
       "    </tr>\n",
       "    <tr>\n",
       "      <th>0</th>\n",
       "      <td>TMJOB1</td>\n",
       "      <td>0</td>\n",
       "      <td>(-inf, 7.50)</td>\n",
       "      <td>1820</td>\n",
       "      <td>0.055666</td>\n",
       "      <td>1710</td>\n",
       "      <td>110</td>\n",
       "      <td>0.060440</td>\n",
       "      <td>-0.666953</td>\n",
       "      <td>0.034171</td>\n",
       "      <td>4.193946e-03</td>\n",
       "      <td>-0.804026</td>\n",
       "      <td>93.779538</td>\n",
       "    </tr>\n",
       "    <tr>\n",
       "      <th>1</th>\n",
       "      <td>TMJOB1</td>\n",
       "      <td>1</td>\n",
       "      <td>[7.50, 10.50)</td>\n",
       "      <td>1363</td>\n",
       "      <td>0.041688</td>\n",
       "      <td>1290</td>\n",
       "      <td>73</td>\n",
       "      <td>0.053558</td>\n",
       "      <td>-0.538783</td>\n",
       "      <td>0.015678</td>\n",
       "      <td>1.936336e-03</td>\n",
       "      <td>-0.804026</td>\n",
       "      <td>101.213155</td>\n",
       "    </tr>\n",
       "    <tr>\n",
       "      <th>2</th>\n",
       "      <td>TMJOB1</td>\n",
       "      <td>2</td>\n",
       "      <td>[10.50, 16.50)</td>\n",
       "      <td>2574</td>\n",
       "      <td>0.078728</td>\n",
       "      <td>2460</td>\n",
       "      <td>114</td>\n",
       "      <td>0.044289</td>\n",
       "      <td>-0.339003</td>\n",
       "      <td>0.010633</td>\n",
       "      <td>1.322809e-03</td>\n",
       "      <td>-0.804026</td>\n",
       "      <td>112.800044</td>\n",
       "    </tr>\n",
       "    <tr>\n",
       "      <th>3</th>\n",
       "      <td>TMJOB1</td>\n",
       "      <td>3</td>\n",
       "      <td>[16.50, 31.50)</td>\n",
       "      <td>5490</td>\n",
       "      <td>0.167916</td>\n",
       "      <td>5280</td>\n",
       "      <td>210</td>\n",
       "      <td>0.038251</td>\n",
       "      <td>-0.186147</td>\n",
       "      <td>0.006354</td>\n",
       "      <td>7.930601e-04</td>\n",
       "      <td>-0.804026</td>\n",
       "      <td>121.665399</td>\n",
       "    </tr>\n",
       "    <tr>\n",
       "      <th>4</th>\n",
       "      <td>TMJOB1</td>\n",
       "      <td>4</td>\n",
       "      <td>[31.50, 90.00)</td>\n",
       "      <td>11062</td>\n",
       "      <td>0.338339</td>\n",
       "      <td>10710</td>\n",
       "      <td>352</td>\n",
       "      <td>0.031821</td>\n",
       "      <td>0.004581</td>\n",
       "      <td>0.000007</td>\n",
       "      <td>8.855222e-07</td>\n",
       "      <td>-0.804026</td>\n",
       "      <td>132.727289</td>\n",
       "    </tr>\n",
       "    <tr>\n",
       "      <th>5</th>\n",
       "      <td>TMJOB1</td>\n",
       "      <td>5</td>\n",
       "      <td>[90.00, 156.00)</td>\n",
       "      <td>3844</td>\n",
       "      <td>0.117571</td>\n",
       "      <td>3750</td>\n",
       "      <td>94</td>\n",
       "      <td>0.024454</td>\n",
       "      <td>0.275495</td>\n",
       "      <td>0.007860</td>\n",
       "      <td>9.794323e-04</td>\n",
       "      <td>-0.804026</td>\n",
       "      <td>148.439836</td>\n",
       "    </tr>\n",
       "    <tr>\n",
       "      <th>6</th>\n",
       "      <td>TMJOB1</td>\n",
       "      <td>6</td>\n",
       "      <td>[156.00, 228.00)</td>\n",
       "      <td>3021</td>\n",
       "      <td>0.092399</td>\n",
       "      <td>2970</td>\n",
       "      <td>51</td>\n",
       "      <td>0.016882</td>\n",
       "      <td>0.653770</td>\n",
       "      <td>0.029443</td>\n",
       "      <td>3.616148e-03</td>\n",
       "      <td>-0.804026</td>\n",
       "      <td>170.379123</td>\n",
       "    </tr>\n",
       "    <tr>\n",
       "      <th>7</th>\n",
       "      <td>TMJOB1</td>\n",
       "      <td>7</td>\n",
       "      <td>[228.00, inf)</td>\n",
       "      <td>3521</td>\n",
       "      <td>0.107692</td>\n",
       "      <td>3480</td>\n",
       "      <td>41</td>\n",
       "      <td>0.011644</td>\n",
       "      <td>1.030494</td>\n",
       "      <td>0.072875</td>\n",
       "      <td>8.726529e-03</td>\n",
       "      <td>-0.804026</td>\n",
       "      <td>192.228435</td>\n",
       "    </tr>\n",
       "    <tr>\n",
       "      <th>8</th>\n",
       "      <td>TMJOB1</td>\n",
       "      <td>8</td>\n",
       "      <td>Special</td>\n",
       "      <td>0</td>\n",
       "      <td>0.000000</td>\n",
       "      <td>0</td>\n",
       "      <td>0</td>\n",
       "      <td>0.000000</td>\n",
       "      <td>0.000000</td>\n",
       "      <td>0.000000</td>\n",
       "      <td>0.000000e+00</td>\n",
       "      <td>-0.804026</td>\n",
       "      <td>132.461615</td>\n",
       "    </tr>\n",
       "    <tr>\n",
       "      <th>9</th>\n",
       "      <td>TMJOB1</td>\n",
       "      <td>9</td>\n",
       "      <td>Missing</td>\n",
       "      <td>0</td>\n",
       "      <td>0.000000</td>\n",
       "      <td>0</td>\n",
       "      <td>0</td>\n",
       "      <td>0.000000</td>\n",
       "      <td>0.000000</td>\n",
       "      <td>0.000000</td>\n",
       "      <td>0.000000e+00</td>\n",
       "      <td>-0.804026</td>\n",
       "      <td>132.461615</td>\n",
       "    </tr>\n",
       "    <tr>\n",
       "      <th>0</th>\n",
       "      <td>INCOME</td>\n",
       "      <td>0</td>\n",
       "      <td>(-inf, 500.00)</td>\n",
       "      <td>10422</td>\n",
       "      <td>0.318764</td>\n",
       "      <td>10260</td>\n",
       "      <td>162</td>\n",
       "      <td>0.015544</td>\n",
       "      <td>0.737691</td>\n",
       "      <td>0.124778</td>\n",
       "      <td>1.525293e-02</td>\n",
       "      <td>-0.392427</td>\n",
       "      <td>153.343872</td>\n",
       "    </tr>\n",
       "    <tr>\n",
       "      <th>1</th>\n",
       "      <td>INCOME</td>\n",
       "      <td>1</td>\n",
       "      <td>[500.00, 1550.00)</td>\n",
       "      <td>2241</td>\n",
       "      <td>0.068543</td>\n",
       "      <td>2130</td>\n",
       "      <td>111</td>\n",
       "      <td>0.049531</td>\n",
       "      <td>-0.456374</td>\n",
       "      <td>0.017763</td>\n",
       "      <td>2.201277e-03</td>\n",
       "      <td>-0.392427</td>\n",
       "      <td>119.542752</td>\n",
       "    </tr>\n",
       "    <tr>\n",
       "      <th>2</th>\n",
       "      <td>INCOME</td>\n",
       "      <td>2</td>\n",
       "      <td>[1550.00, 1750.00)</td>\n",
       "      <td>947</td>\n",
       "      <td>0.028965</td>\n",
       "      <td>870</td>\n",
       "      <td>77</td>\n",
       "      <td>0.081309</td>\n",
       "      <td>-0.986033</td>\n",
       "      <td>0.045551</td>\n",
       "      <td>5.473855e-03</td>\n",
       "      <td>-0.392427</td>\n",
       "      <td>104.549364</td>\n",
       "    </tr>\n",
       "    <tr>\n",
       "      <th>3</th>\n",
       "      <td>INCOME</td>\n",
       "      <td>3</td>\n",
       "      <td>[1750.00, 2250.00)</td>\n",
       "      <td>4444</td>\n",
       "      <td>0.135923</td>\n",
       "      <td>4200</td>\n",
       "      <td>244</td>\n",
       "      <td>0.054905</td>\n",
       "      <td>-0.565050</td>\n",
       "      <td>0.056952</td>\n",
       "      <td>7.025798e-03</td>\n",
       "      <td>-0.392427</td>\n",
       "      <td>116.466409</td>\n",
       "    </tr>\n",
       "    <tr>\n",
       "      <th>4</th>\n",
       "      <td>INCOME</td>\n",
       "      <td>4</td>\n",
       "      <td>[2250.00, 2450.00)</td>\n",
       "      <td>2226</td>\n",
       "      <td>0.068084</td>\n",
       "      <td>2130</td>\n",
       "      <td>96</td>\n",
       "      <td>0.043127</td>\n",
       "      <td>-0.311192</td>\n",
       "      <td>0.007645</td>\n",
       "      <td>9.518124e-04</td>\n",
       "      <td>-0.392427</td>\n",
       "      <td>123.652508</td>\n",
       "    </tr>\n",
       "    <tr>\n",
       "      <th>5</th>\n",
       "      <td>INCOME</td>\n",
       "      <td>5</td>\n",
       "      <td>[2450.00, 2650.00)</td>\n",
       "      <td>2708</td>\n",
       "      <td>0.082826</td>\n",
       "      <td>2610</td>\n",
       "      <td>98</td>\n",
       "      <td>0.036189</td>\n",
       "      <td>-0.128583</td>\n",
       "      <td>0.001455</td>\n",
       "      <td>1.817470e-04</td>\n",
       "      <td>-0.392427</td>\n",
       "      <td>128.821731</td>\n",
       "    </tr>\n",
       "    <tr>\n",
       "      <th>6</th>\n",
       "      <td>INCOME</td>\n",
       "      <td>6</td>\n",
       "      <td>[2650.00, 2950.00)</td>\n",
       "      <td>2542</td>\n",
       "      <td>0.077749</td>\n",
       "      <td>2460</td>\n",
       "      <td>82</td>\n",
       "      <td>0.032258</td>\n",
       "      <td>-0.009524</td>\n",
       "      <td>0.000007</td>\n",
       "      <td>8.854570e-07</td>\n",
       "      <td>-0.392427</td>\n",
       "      <td>132.192017</td>\n",
       "    </tr>\n",
       "    <tr>\n",
       "      <th>7</th>\n",
       "      <td>INCOME</td>\n",
       "      <td>7</td>\n",
       "      <td>[2950.00, inf)</td>\n",
       "      <td>7165</td>\n",
       "      <td>0.219147</td>\n",
       "      <td>6990</td>\n",
       "      <td>175</td>\n",
       "      <td>0.024424</td>\n",
       "      <td>0.276729</td>\n",
       "      <td>0.014774</td>\n",
       "      <td>1.840912e-03</td>\n",
       "      <td>-0.392427</td>\n",
       "      <td>140.295141</td>\n",
       "    </tr>\n",
       "    <tr>\n",
       "      <th>8</th>\n",
       "      <td>INCOME</td>\n",
       "      <td>8</td>\n",
       "      <td>Special</td>\n",
       "      <td>0</td>\n",
       "      <td>0.000000</td>\n",
       "      <td>0</td>\n",
       "      <td>0</td>\n",
       "      <td>0.000000</td>\n",
       "      <td>0.000000</td>\n",
       "      <td>0.000000</td>\n",
       "      <td>0.000000e+00</td>\n",
       "      <td>-0.392427</td>\n",
       "      <td>132.461615</td>\n",
       "    </tr>\n",
       "    <tr>\n",
       "      <th>9</th>\n",
       "      <td>INCOME</td>\n",
       "      <td>9</td>\n",
       "      <td>Missing</td>\n",
       "      <td>0</td>\n",
       "      <td>0.000000</td>\n",
       "      <td>0</td>\n",
       "      <td>0</td>\n",
       "      <td>0.000000</td>\n",
       "      <td>0.000000</td>\n",
       "      <td>0.000000</td>\n",
       "      <td>0.000000e+00</td>\n",
       "      <td>-0.392427</td>\n",
       "      <td>132.461615</td>\n",
       "    </tr>\n",
       "    <tr>\n",
       "      <th>0</th>\n",
       "      <td>CARDS</td>\n",
       "      <td>0</td>\n",
       "      <td>[Mastercard/Euroc, Cheque card, VISA Others]</td>\n",
       "      <td>12287</td>\n",
       "      <td>0.375807</td>\n",
       "      <td>12090</td>\n",
       "      <td>197</td>\n",
       "      <td>0.016033</td>\n",
       "      <td>0.706209</td>\n",
       "      <td>0.136633</td>\n",
       "      <td>1.673282e-02</td>\n",
       "      <td>-0.714248</td>\n",
       "      <td>168.846971</td>\n",
       "    </tr>\n",
       "    <tr>\n",
       "      <th>1</th>\n",
       "      <td>CARDS</td>\n",
       "      <td>1</td>\n",
       "      <td>[American Express, Other credit car, no credit...</td>\n",
       "      <td>20408</td>\n",
       "      <td>0.624193</td>\n",
       "      <td>19560</td>\n",
       "      <td>848</td>\n",
       "      <td>0.041552</td>\n",
       "      <td>-0.272360</td>\n",
       "      <td>0.052695</td>\n",
       "      <td>6.566530e-03</td>\n",
       "      <td>-0.714248</td>\n",
       "      <td>118.429064</td>\n",
       "    </tr>\n",
       "    <tr>\n",
       "      <th>2</th>\n",
       "      <td>CARDS</td>\n",
       "      <td>2</td>\n",
       "      <td>Special</td>\n",
       "      <td>0</td>\n",
       "      <td>0.000000</td>\n",
       "      <td>0</td>\n",
       "      <td>0</td>\n",
       "      <td>0.000000</td>\n",
       "      <td>0.000000</td>\n",
       "      <td>0.000000</td>\n",
       "      <td>0.000000e+00</td>\n",
       "      <td>-0.714248</td>\n",
       "      <td>132.461615</td>\n",
       "    </tr>\n",
       "    <tr>\n",
       "      <th>3</th>\n",
       "      <td>CARDS</td>\n",
       "      <td>3</td>\n",
       "      <td>Missing</td>\n",
       "      <td>0</td>\n",
       "      <td>0.000000</td>\n",
       "      <td>0</td>\n",
       "      <td>0</td>\n",
       "      <td>0.000000</td>\n",
       "      <td>0.000000</td>\n",
       "      <td>0.000000</td>\n",
       "      <td>0.000000e+00</td>\n",
       "      <td>-0.714248</td>\n",
       "      <td>132.461615</td>\n",
       "    </tr>\n",
       "  </tbody>\n",
       "</table>\n",
       "</div>"
      ],
      "text/plain": [
       "  Variable  Bin id                                                Bin  Count  \\\n",
       "0   PERS_H       0                                       (-inf, 1.50)   9132   \n",
       "1   PERS_H       1                                       [1.50, 2.50)   8309   \n",
       "2   PERS_H       2                                       [2.50, 4.50)  13150   \n",
       "3   PERS_H       3                                        [4.50, inf)   2104   \n",
       "4   PERS_H       4                                            Special      0   \n",
       "5   PERS_H       5                                            Missing      0   \n",
       "0   TMJOB1       0                                       (-inf, 7.50)   1820   \n",
       "1   TMJOB1       1                                      [7.50, 10.50)   1363   \n",
       "2   TMJOB1       2                                     [10.50, 16.50)   2574   \n",
       "3   TMJOB1       3                                     [16.50, 31.50)   5490   \n",
       "4   TMJOB1       4                                     [31.50, 90.00)  11062   \n",
       "5   TMJOB1       5                                    [90.00, 156.00)   3844   \n",
       "6   TMJOB1       6                                   [156.00, 228.00)   3021   \n",
       "7   TMJOB1       7                                      [228.00, inf)   3521   \n",
       "8   TMJOB1       8                                            Special      0   \n",
       "9   TMJOB1       9                                            Missing      0   \n",
       "0   INCOME       0                                     (-inf, 500.00)  10422   \n",
       "1   INCOME       1                                  [500.00, 1550.00)   2241   \n",
       "2   INCOME       2                                 [1550.00, 1750.00)    947   \n",
       "3   INCOME       3                                 [1750.00, 2250.00)   4444   \n",
       "4   INCOME       4                                 [2250.00, 2450.00)   2226   \n",
       "5   INCOME       5                                 [2450.00, 2650.00)   2708   \n",
       "6   INCOME       6                                 [2650.00, 2950.00)   2542   \n",
       "7   INCOME       7                                     [2950.00, inf)   7165   \n",
       "8   INCOME       8                                            Special      0   \n",
       "9   INCOME       9                                            Missing      0   \n",
       "0    CARDS       0       [Mastercard/Euroc, Cheque card, VISA Others]  12287   \n",
       "1    CARDS       1  [American Express, Other credit car, no credit...  20408   \n",
       "2    CARDS       2                                            Special      0   \n",
       "3    CARDS       3                                            Missing      0   \n",
       "\n",
       "   Count (%)  Non-event  Event  Event rate       WoE        IV            JS  \\\n",
       "0   0.279309       8640    492    0.053876 -0.545042  0.107824  1.331366e-02   \n",
       "1   0.254137       8130    179    0.021543  0.405209  0.034678  4.305319e-03   \n",
       "2   0.402202      12840    310    0.023574  0.313027  0.034131  4.249087e-03   \n",
       "3   0.064352       2040     64    0.030418  0.051101  0.000164  2.050805e-05   \n",
       "4   0.000000          0      0    0.000000  0.000000  0.000000  0.000000e+00   \n",
       "5   0.000000          0      0    0.000000  0.000000  0.000000  0.000000e+00   \n",
       "0   0.055666       1710    110    0.060440 -0.666953  0.034171  4.193946e-03   \n",
       "1   0.041688       1290     73    0.053558 -0.538783  0.015678  1.936336e-03   \n",
       "2   0.078728       2460    114    0.044289 -0.339003  0.010633  1.322809e-03   \n",
       "3   0.167916       5280    210    0.038251 -0.186147  0.006354  7.930601e-04   \n",
       "4   0.338339      10710    352    0.031821  0.004581  0.000007  8.855222e-07   \n",
       "5   0.117571       3750     94    0.024454  0.275495  0.007860  9.794323e-04   \n",
       "6   0.092399       2970     51    0.016882  0.653770  0.029443  3.616148e-03   \n",
       "7   0.107692       3480     41    0.011644  1.030494  0.072875  8.726529e-03   \n",
       "8   0.000000          0      0    0.000000  0.000000  0.000000  0.000000e+00   \n",
       "9   0.000000          0      0    0.000000  0.000000  0.000000  0.000000e+00   \n",
       "0   0.318764      10260    162    0.015544  0.737691  0.124778  1.525293e-02   \n",
       "1   0.068543       2130    111    0.049531 -0.456374  0.017763  2.201277e-03   \n",
       "2   0.028965        870     77    0.081309 -0.986033  0.045551  5.473855e-03   \n",
       "3   0.135923       4200    244    0.054905 -0.565050  0.056952  7.025798e-03   \n",
       "4   0.068084       2130     96    0.043127 -0.311192  0.007645  9.518124e-04   \n",
       "5   0.082826       2610     98    0.036189 -0.128583  0.001455  1.817470e-04   \n",
       "6   0.077749       2460     82    0.032258 -0.009524  0.000007  8.854570e-07   \n",
       "7   0.219147       6990    175    0.024424  0.276729  0.014774  1.840912e-03   \n",
       "8   0.000000          0      0    0.000000  0.000000  0.000000  0.000000e+00   \n",
       "9   0.000000          0      0    0.000000  0.000000  0.000000  0.000000e+00   \n",
       "0   0.375807      12090    197    0.016033  0.706209  0.136633  1.673282e-02   \n",
       "1   0.624193      19560    848    0.041552 -0.272360  0.052695  6.566530e-03   \n",
       "2   0.000000          0      0    0.000000  0.000000  0.000000  0.000000e+00   \n",
       "3   0.000000          0      0    0.000000  0.000000  0.000000  0.000000e+00   \n",
       "\n",
       "   Coefficient      Points  \n",
       "0    -0.798730  101.058373  \n",
       "1    -0.798730  155.808216  \n",
       "2    -0.798730  150.497035  \n",
       "3    -0.798730  135.405845  \n",
       "4    -0.798730  132.461615  \n",
       "5    -0.798730  132.461615  \n",
       "0    -0.804026   93.779538  \n",
       "1    -0.804026  101.213155  \n",
       "2    -0.804026  112.800044  \n",
       "3    -0.804026  121.665399  \n",
       "4    -0.804026  132.727289  \n",
       "5    -0.804026  148.439836  \n",
       "6    -0.804026  170.379123  \n",
       "7    -0.804026  192.228435  \n",
       "8    -0.804026  132.461615  \n",
       "9    -0.804026  132.461615  \n",
       "0    -0.392427  153.343872  \n",
       "1    -0.392427  119.542752  \n",
       "2    -0.392427  104.549364  \n",
       "3    -0.392427  116.466409  \n",
       "4    -0.392427  123.652508  \n",
       "5    -0.392427  128.821731  \n",
       "6    -0.392427  132.192017  \n",
       "7    -0.392427  140.295141  \n",
       "8    -0.392427  132.461615  \n",
       "9    -0.392427  132.461615  \n",
       "0    -0.714248  168.846971  \n",
       "1    -0.714248  118.429064  \n",
       "2    -0.714248  132.461615  \n",
       "3    -0.714248  132.461615  "
      ]
     },
     "execution_count": 19,
     "metadata": {},
     "output_type": "execute_result"
    }
   ],
   "source": [
    "scorecard.table(style = \"detailed\")"
   ]
  },
  {
   "cell_type": "code",
   "execution_count": 20,
   "metadata": {},
   "outputs": [
    {
     "name": "stdout",
     "output_type": "stream",
     "text": [
      "Plotting WOE for CASH\n"
     ]
    },
    {
     "data": {
      "image/png": "[encoded data removed]",
      "text/plain": [
       "<Figure size 640x480 with 2 Axes>"
      ]
     },
     "metadata": {},
     "output_type": "display_data"
    },
    {
     "name": "stdout",
     "output_type": "stream",
     "text": [
      "Plotting WOE for CHILDREN\n"
     ]
    },
    {
     "data": {
      "image/png": "[encoded data removed]",
      "text/plain": [
       "<Figure size 640x480 with 2 Axes>"
      ]
     },
     "metadata": {},
     "output_type": "display_data"
    },
    {
     "name": "stdout",
     "output_type": "stream",
     "text": [
      "Plotting WOE for INCOME\n"
     ]
    },
    {
     "data": {
      "image/png": "[encoded data removed]",
      "text/plain": [
       "<Figure size 640x480 with 2 Axes>"
      ]
     },
     "metadata": {},
     "output_type": "display_data"
    },
    {
     "name": "stdout",
     "output_type": "stream",
     "text": [
      "Plotting WOE for LOANS\n"
     ]
    },
    {
     "data": {
      "image/png": "[encoded data removed]",
      "text/plain": [
       "<Figure size 640x480 with 2 Axes>"
      ]
     },
     "metadata": {},
     "output_type": "display_data"
    },
    {
     "name": "stdout",
     "output_type": "stream",
     "text": [
      "Plotting WOE for TMADD\n"
     ]
    },
    {
     "data": {
      "image/png": "[encoded data removed]",
      "text/plain": [
       "<Figure size 640x480 with 2 Axes>"
      ]
     },
     "metadata": {},
     "output_type": "display_data"
    },
    {
     "name": "stdout",
     "output_type": "stream",
     "text": [
      "Plotting WOE for TMJOB1\n"
     ]
    },
    {
     "data": {
      "image/png": "[encoded data removed]",
      "text/plain": [
       "<Figure size 640x480 with 2 Axes>"
      ]
     },
     "metadata": {},
     "output_type": "display_data"
    }
   ],
   "source": [
    "# Plot WOE\n",
    "results = {}\n",
    "iv_tables = {}\n",
    "\n",
    "for var in continuous_variables:\n",
    "    X = train[var]\n",
    "    y = train[\"GB\"]\n",
    "    \n",
    "    optbin = OptimalBinning(name=var, dtype=\"numerical\")\n",
    "    \n",
    "    optbin.fit(X, y)\n",
    "    \n",
    "    results[var] = optbin\n",
    "\n",
    "    iv_table = optbin.binning_table\n",
    "    iv_tables[var] = iv_table.build()\n",
    "\n",
    "\n",
    "for var in continuous_variables:\n",
    "    print(f\"Plotting WOE for {var}\")\n",
    "    results[var].binning_table.plot(metric=\"woe\")"
   ]
  },
  {
   "cell_type": "code",
   "execution_count": 24,
   "metadata": {},
   "outputs": [],
   "source": [
    "#Model Evaluation\n",
    "\n",
    "from matplotlib import pyplot as plt\n",
    "from optbinning import Scorecard\n",
    "from sklearn.linear_model import LogisticRegression\n",
    "from optbinning.scorecard import plot_auc_roc, plot_ks\n"
   ]
  },
  {
   "cell_type": "code",
   "execution_count": 28,
   "metadata": {},
   "outputs": [],
   "source": [
    "X = train[colnames]\n",
    "y = train[\"GB\"]"
   ]
  },
  {
   "cell_type": "code",
   "execution_count": 30,
   "metadata": {},
   "outputs": [
    {
     "data": {
      "image/png": "[encoded data removed]",
      "text/plain": [
       "<Figure size 640x480 with 1 Axes>"
      ]
     },
     "metadata": {},
     "output_type": "display_data"
    },
    {
     "data": {
      "image/png": "[encoded data removed]",
      "text/plain": [
       "<Figure size 640x480 with 1 Axes>"
      ]
     },
     "metadata": {},
     "output_type": "display_data"
    }
   ],
   "source": [
    "\n",
    "y_pred = scorecard.predict_proba(X)[:, 1]\n",
    "plot_auc_roc(y, y_pred)\n",
    "plt.show()\n",
    "\n",
    "plot_ks(y, y_pred)\n",
    "plt.show()\n",
    "\n"
   ]
  },
  {
   "cell_type": "code",
   "execution_count": 31,
   "metadata": {},
   "outputs": [
    {
     "data": {
      "text/html": [
       "<div>\n",
       "<style scoped>\n",
       "    .dataframe tbody tr th:only-of-type {\n",
       "        vertical-align: middle;\n",
       "    }\n",
       "\n",
       "    .dataframe tbody tr th {\n",
       "        vertical-align: top;\n",
       "    }\n",
       "\n",
       "    .dataframe thead th {\n",
       "        text-align: right;\n",
       "    }\n",
       "</style>\n",
       "<table border=\"1\" class=\"dataframe\">\n",
       "  <thead>\n",
       "    <tr style=\"text-align: right;\">\n",
       "      <th></th>\n",
       "      <th>Variable</th>\n",
       "      <th>Bin</th>\n",
       "      <th>Points</th>\n",
       "    </tr>\n",
       "  </thead>\n",
       "  <tbody>\n",
       "    <tr>\n",
       "      <th>0</th>\n",
       "      <td>PERS_H</td>\n",
       "      <td>(-inf, 1.50)</td>\n",
       "      <td>101.058373</td>\n",
       "    </tr>\n",
       "    <tr>\n",
       "      <th>1</th>\n",
       "      <td>PERS_H</td>\n",
       "      <td>[1.50, 2.50)</td>\n",
       "      <td>155.808216</td>\n",
       "    </tr>\n",
       "    <tr>\n",
       "      <th>2</th>\n",
       "      <td>PERS_H</td>\n",
       "      <td>[2.50, 4.50)</td>\n",
       "      <td>150.497035</td>\n",
       "    </tr>\n",
       "    <tr>\n",
       "      <th>3</th>\n",
       "      <td>PERS_H</td>\n",
       "      <td>[4.50, inf)</td>\n",
       "      <td>135.405845</td>\n",
       "    </tr>\n",
       "    <tr>\n",
       "      <th>4</th>\n",
       "      <td>PERS_H</td>\n",
       "      <td>Special</td>\n",
       "      <td>132.461615</td>\n",
       "    </tr>\n",
       "    <tr>\n",
       "      <th>5</th>\n",
       "      <td>PERS_H</td>\n",
       "      <td>Missing</td>\n",
       "      <td>132.461615</td>\n",
       "    </tr>\n",
       "    <tr>\n",
       "      <th>0</th>\n",
       "      <td>TMJOB1</td>\n",
       "      <td>(-inf, 7.50)</td>\n",
       "      <td>93.779538</td>\n",
       "    </tr>\n",
       "    <tr>\n",
       "      <th>1</th>\n",
       "      <td>TMJOB1</td>\n",
       "      <td>[7.50, 10.50)</td>\n",
       "      <td>101.213155</td>\n",
       "    </tr>\n",
       "    <tr>\n",
       "      <th>2</th>\n",
       "      <td>TMJOB1</td>\n",
       "      <td>[10.50, 16.50)</td>\n",
       "      <td>112.800044</td>\n",
       "    </tr>\n",
       "    <tr>\n",
       "      <th>3</th>\n",
       "      <td>TMJOB1</td>\n",
       "      <td>[16.50, 31.50)</td>\n",
       "      <td>121.665399</td>\n",
       "    </tr>\n",
       "    <tr>\n",
       "      <th>4</th>\n",
       "      <td>TMJOB1</td>\n",
       "      <td>[31.50, 90.00)</td>\n",
       "      <td>132.727289</td>\n",
       "    </tr>\n",
       "    <tr>\n",
       "      <th>5</th>\n",
       "      <td>TMJOB1</td>\n",
       "      <td>[90.00, 156.00)</td>\n",
       "      <td>148.439836</td>\n",
       "    </tr>\n",
       "    <tr>\n",
       "      <th>6</th>\n",
       "      <td>TMJOB1</td>\n",
       "      <td>[156.00, 228.00)</td>\n",
       "      <td>170.379123</td>\n",
       "    </tr>\n",
       "    <tr>\n",
       "      <th>7</th>\n",
       "      <td>TMJOB1</td>\n",
       "      <td>[228.00, inf)</td>\n",
       "      <td>192.228435</td>\n",
       "    </tr>\n",
       "    <tr>\n",
       "      <th>8</th>\n",
       "      <td>TMJOB1</td>\n",
       "      <td>Special</td>\n",
       "      <td>132.461615</td>\n",
       "    </tr>\n",
       "    <tr>\n",
       "      <th>9</th>\n",
       "      <td>TMJOB1</td>\n",
       "      <td>Missing</td>\n",
       "      <td>132.461615</td>\n",
       "    </tr>\n",
       "    <tr>\n",
       "      <th>0</th>\n",
       "      <td>INCOME</td>\n",
       "      <td>(-inf, 500.00)</td>\n",
       "      <td>153.343872</td>\n",
       "    </tr>\n",
       "    <tr>\n",
       "      <th>1</th>\n",
       "      <td>INCOME</td>\n",
       "      <td>[500.00, 1550.00)</td>\n",
       "      <td>119.542752</td>\n",
       "    </tr>\n",
       "    <tr>\n",
       "      <th>2</th>\n",
       "      <td>INCOME</td>\n",
       "      <td>[1550.00, 1750.00)</td>\n",
       "      <td>104.549364</td>\n",
       "    </tr>\n",
       "    <tr>\n",
       "      <th>3</th>\n",
       "      <td>INCOME</td>\n",
       "      <td>[1750.00, 2250.00)</td>\n",
       "      <td>116.466409</td>\n",
       "    </tr>\n",
       "    <tr>\n",
       "      <th>4</th>\n",
       "      <td>INCOME</td>\n",
       "      <td>[2250.00, 2450.00)</td>\n",
       "      <td>123.652508</td>\n",
       "    </tr>\n",
       "    <tr>\n",
       "      <th>5</th>\n",
       "      <td>INCOME</td>\n",
       "      <td>[2450.00, 2650.00)</td>\n",
       "      <td>128.821731</td>\n",
       "    </tr>\n",
       "    <tr>\n",
       "      <th>6</th>\n",
       "      <td>INCOME</td>\n",
       "      <td>[2650.00, 2950.00)</td>\n",
       "      <td>132.192017</td>\n",
       "    </tr>\n",
       "    <tr>\n",
       "      <th>7</th>\n",
       "      <td>INCOME</td>\n",
       "      <td>[2950.00, inf)</td>\n",
       "      <td>140.295141</td>\n",
       "    </tr>\n",
       "    <tr>\n",
       "      <th>8</th>\n",
       "      <td>INCOME</td>\n",
       "      <td>Special</td>\n",
       "      <td>132.461615</td>\n",
       "    </tr>\n",
       "    <tr>\n",
       "      <th>9</th>\n",
       "      <td>INCOME</td>\n",
       "      <td>Missing</td>\n",
       "      <td>132.461615</td>\n",
       "    </tr>\n",
       "    <tr>\n",
       "      <th>0</th>\n",
       "      <td>CARDS</td>\n",
       "      <td>[Mastercard/Euroc, Cheque card, VISA Others]</td>\n",
       "      <td>168.846971</td>\n",
       "    </tr>\n",
       "    <tr>\n",
       "      <th>1</th>\n",
       "      <td>CARDS</td>\n",
       "      <td>[American Express, Other credit car, no credit...</td>\n",
       "      <td>118.429064</td>\n",
       "    </tr>\n",
       "    <tr>\n",
       "      <th>2</th>\n",
       "      <td>CARDS</td>\n",
       "      <td>Special</td>\n",
       "      <td>132.461615</td>\n",
       "    </tr>\n",
       "    <tr>\n",
       "      <th>3</th>\n",
       "      <td>CARDS</td>\n",
       "      <td>Missing</td>\n",
       "      <td>132.461615</td>\n",
       "    </tr>\n",
       "  </tbody>\n",
       "</table>\n",
       "</div>"
      ],
      "text/plain": [
       "  Variable                                                Bin      Points\n",
       "0   PERS_H                                       (-inf, 1.50)  101.058373\n",
       "1   PERS_H                                       [1.50, 2.50)  155.808216\n",
       "2   PERS_H                                       [2.50, 4.50)  150.497035\n",
       "3   PERS_H                                        [4.50, inf)  135.405845\n",
       "4   PERS_H                                            Special  132.461615\n",
       "5   PERS_H                                            Missing  132.461615\n",
       "0   TMJOB1                                       (-inf, 7.50)   93.779538\n",
       "1   TMJOB1                                      [7.50, 10.50)  101.213155\n",
       "2   TMJOB1                                     [10.50, 16.50)  112.800044\n",
       "3   TMJOB1                                     [16.50, 31.50)  121.665399\n",
       "4   TMJOB1                                     [31.50, 90.00)  132.727289\n",
       "5   TMJOB1                                    [90.00, 156.00)  148.439836\n",
       "6   TMJOB1                                   [156.00, 228.00)  170.379123\n",
       "7   TMJOB1                                      [228.00, inf)  192.228435\n",
       "8   TMJOB1                                            Special  132.461615\n",
       "9   TMJOB1                                            Missing  132.461615\n",
       "0   INCOME                                     (-inf, 500.00)  153.343872\n",
       "1   INCOME                                  [500.00, 1550.00)  119.542752\n",
       "2   INCOME                                 [1550.00, 1750.00)  104.549364\n",
       "3   INCOME                                 [1750.00, 2250.00)  116.466409\n",
       "4   INCOME                                 [2250.00, 2450.00)  123.652508\n",
       "5   INCOME                                 [2450.00, 2650.00)  128.821731\n",
       "6   INCOME                                 [2650.00, 2950.00)  132.192017\n",
       "7   INCOME                                     [2950.00, inf)  140.295141\n",
       "8   INCOME                                            Special  132.461615\n",
       "9   INCOME                                            Missing  132.461615\n",
       "0    CARDS       [Mastercard/Euroc, Cheque card, VISA Others]  168.846971\n",
       "1    CARDS  [American Express, Other credit car, no credit...  118.429064\n",
       "2    CARDS                                            Special  132.461615\n",
       "3    CARDS                                            Missing  132.461615"
      ]
     },
     "execution_count": 31,
     "metadata": {},
     "output_type": "execute_result"
    }
   ],
   "source": [
    "scorecard.table(style = \"summary\")"
   ]
  },
  {
   "cell_type": "code",
   "execution_count": 32,
   "metadata": {},
   "outputs": [],
   "source": [
    "#Reject Inference\n",
    "\n",
    "X_r = rejects\n",
    "\n",
    "rejects[\"y_pred\"] = scorecard.predict_proba(X_r)[:, 1]\n",
    "\n",
    "rejects[\"GB\"] = (rejects[\"y_pred\"] > 0.04).astype(int)\n",
    "rejects[\"weight\"] = rejects[\"GB\"].apply(lambda x: 30 if x == 0 else 1)\n",
    "\n",
    "rejects = rejects.drop(\"y_pred\", axis=1)\n",
    "\n",
    "comb_hard = pd.concat([accepts, rejects.head(1000)], ignore_index=True)"
   ]
  },
  {
   "cell_type": "code",
   "execution_count": 33,
   "metadata": {},
   "outputs": [
    {
     "data": {
      "text/plain": [
       "(array([0, 1, 2, 3, 4, 5, 6, 7, 8, 9]),\n",
       " [Text(0, 0, '0'),\n",
       "  Text(1, 0, '1'),\n",
       "  Text(2, 0, '2'),\n",
       "  Text(3, 0, '3'),\n",
       "  Text(4, 0, '4'),\n",
       "  Text(5, 0, '5'),\n",
       "  Text(6, 0, '6'),\n",
       "  Text(7, 0, '7'),\n",
       "  Text(8, 0, '8'),\n",
       "  Text(9, 0, '9')])"
      ]
     },
     "execution_count": 33,
     "metadata": {},
     "output_type": "execute_result"
    },
    {
     "data": {
      "image/png": "[encoded data removed]",
      "text/plain": [
       "<Figure size 800x600 with 1 Axes>"
      ]
     },
     "metadata": {},
     "output_type": "display_data"
    }
   ],
   "source": [
    "#Final Scorecard\n",
    "test_final = comb_hard\n",
    "\n",
    "test_final[\"score\"] = scorecard.score(test_final)\n",
    "test_final['decile'] = pd.qcut(test_final[\"score\"], 10, labels = False, duplicates='drop')\n",
    "\n",
    "PD = test_final[test_final['GB'] == 1].groupby('decile').size() / (test_final[test_final['GB'] == 0].groupby('decile').size() * 30 + test_final[test_final['GB'] == 1].groupby('decile').size())\n",
    "\n",
    "\n",
    "plt.figure(figsize = (8, 6))\n",
    "PD.plot(kind = 'bar', color = 'skyblue', edgecolor = 'black')\n",
    "plt.axhline(y = 0.0323, color = 'black', linestyle = '--', linewidth = 2)\n",
    "plt.text(x = 8, y = 0.04, s = '3.23% Default', color = 'black', ha = 'right', va = 'bottom', fontsize = 12)\n",
    "\n",
    "plt.title('Proportion of Default across Deciles of Score')\n",
    "plt.xlabel('Decile')\n",
    "plt.ylabel('Proportion of Default')\n",
    "plt.xticks(rotation = 0)"
   ]
  },
  {
   "cell_type": "code",
   "execution_count": 34,
   "metadata": {},
   "outputs": [
    {
     "data": {
      "image/png": "[encoded data removed]",
      "text/plain": [
       "<Figure size 640x480 with 1 Axes>"
      ]
     },
     "metadata": {},
     "output_type": "display_data"
    },
    {
     "data": {
      "image/png": "[encoded data removed]",
      "text/plain": [
       "<Figure size 640x480 with 1 Axes>"
      ]
     },
     "metadata": {},
     "output_type": "display_data"
    }
   ],
   "source": [
    "colnames =  list(train.columns[0:2]) + list(train.columns[3:18]) + list(train.columns[19:22])\n",
    "X = test_final[colnames]\n",
    "y = test_final[\"GB\"]\n",
    "\n",
    "y_pred = scorecard.predict_proba(X)[:, 1]\n",
    "\n",
    "plot_auc_roc(y, y_pred)\n",
    "plt.show()\n",
    "\n",
    "plot_ks(y, y_pred)\n",
    "plt.show()"
   ]
  },
  {
   "cell_type": "code",
   "execution_count": 35,
   "metadata": {},
   "outputs": [
    {
     "name": "stdout",
     "output_type": "stream",
     "text": [
      "Optimal Threshold: 0.04041871015602394\n"
     ]
    },
    {
     "data": {
      "image/png": "[encoded data removed]",
      "text/plain": [
       "<Figure size 800x600 with 1 Axes>"
      ]
     },
     "metadata": {},
     "output_type": "display_data"
    }
   ],
   "source": [
    "from sklearn.metrics import roc_curve, roc_auc_score\n",
    "\n",
    "# Compute the ROC curve\n",
    "fpr, tpr, thresholds = roc_curve(y, y_pred)\n",
    "\n",
    "# Calculate Youden's J statistic for each threshold\n",
    "youden_j = tpr - fpr\n",
    "\n",
    "# Find the index of the maximum J statistic\n",
    "optimal_idx = youden_j.argmax()\n",
    "\n",
    "# Get the optimal threshold\n",
    "optimal_threshold = thresholds[optimal_idx]\n",
    "\n",
    "print(f\"Optimal Threshold: {optimal_threshold}\")\n",
    "\n",
    "# Plot ROC curve with the optimal threshold marked\n",
    "plt.figure(figsize=(8, 6))\n",
    "plt.plot(fpr, tpr, label=f\"ROC Curve (AUC = {roc_auc_score(y, y_pred):.2f})\")\n",
    "plt.scatter(fpr[optimal_idx], tpr[optimal_idx], color='red', label=f\"Optimal Threshold = {optimal_threshold:.2f}\")\n",
    "plt.plot([0, 1], [0, 1], linestyle='--', color='gray', label='Random Guess')\n",
    "plt.xlabel(\"False Positive Rate\")\n",
    "plt.ylabel(\"True Positive Rate\")\n",
    "plt.title(\"ROC Curve with Optimal Threshold\")\n",
    "plt.legend(loc=\"lower right\")\n",
    "plt.grid()\n",
    "plt.show()\n"
   ]
  },
  {
   "cell_type": "code",
   "execution_count": 36,
   "metadata": {},
   "outputs": [
    {
     "name": "stdout",
     "output_type": "stream",
     "text": [
      "Confusion Matrix:\n",
      "[[1575  362]\n",
      " [ 717 1346]]\n"
     ]
    }
   ],
   "source": [
    "from sklearn.metrics import confusion_matrix\n",
    "import seaborn as sns\n",
    "\n",
    "# Choose the optimal threshold or a custom threshold\n",
    "threshold = optimal_threshold  # or use another value like 0.5\n",
    "\n",
    "# Convert predicted probabilities to binary predictions based on the threshold\n",
    "y_pred_binary = (y_pred >= threshold).astype(int)\n",
    "\n",
    "# Compute the confusion matrix\n",
    "cm = confusion_matrix(y, y_pred_binary)\n",
    "\n",
    "# Alternatively, print the confusion matrix\n",
    "print(\"Confusion Matrix:\")\n",
    "print(cm)\n"
   ]
  },
  {
   "cell_type": "code",
   "execution_count": 37,
   "metadata": {},
   "outputs": [
    {
     "data": {
      "application/vnd.plotly.v1+json": {
       "config": {
        "plotlyServerURL": "https://plot.ly"
       },
       "data": [
        {
         "line": {
          "color": "skyblue"
         },
         "mode": "lines",
         "name": "Acceptance Rate",
         "type": "scatter",
         "x": [
          417.81633827381154,
          420.36594589787916,
          422.91555352194683,
          425.46516114601445,
          428.01476877008207,
          430.5643763941497,
          433.11398401821737,
          435.663591642285,
          438.2131992663526,
          440.7628068904203,
          443.3124145144879,
          445.8620221385555,
          448.4116297626232,
          450.9612373866908,
          453.51084501075843,
          456.06045263482605,
          458.6100602588937,
          461.15966788296134,
          463.70927550702896,
          466.2588831310966,
          468.80849075516426,
          471.3580983792319,
          473.9077060032995,
          476.45731362736717,
          479.0069212514348,
          481.5565288755024,
          484.1061364995701,
          486.6557441236377,
          489.2053517477053,
          491.754959371773,
          494.3045669958406,
          496.85417461990824,
          499.40378224397585,
          501.9533898680435,
          504.50299749211115,
          507.05260511617877,
          509.6022127402464,
          512.1518203643141,
          514.7014279883817,
          517.2510356124493,
          519.800643236517,
          522.3502508605845,
          524.8998584846522,
          527.4494661087199,
          529.9990737327875,
          532.5486813568551,
          535.0982889809228,
          537.6478966049904,
          540.197504229058,
          542.7471118531257,
          545.2967194771933,
          547.846327101261,
          550.3959347253285,
          552.9455423493962,
          555.4951499734639,
          558.0447575975315,
          560.5943652215991,
          563.1439728456668,
          565.6935804697343,
          568.243188093802,
          570.7927957178697,
          573.3424033419373,
          575.8920109660049,
          578.4416185900725,
          580.9912262141402,
          583.5408338382078,
          586.0904414622755,
          588.6400490863431,
          591.1896567104108,
          593.7392643344783,
          596.288871958546,
          598.8384795826137,
          601.3880872066813,
          603.9376948307489,
          606.4873024548166,
          609.0369100788841,
          611.5865177029518,
          614.1361253270195,
          616.6857329510871,
          619.2353405751547,
          621.7849481992223,
          624.33455582329,
          626.8841634473577,
          629.4337710714253,
          631.9833786954929,
          634.5329863195606,
          637.0825939436281,
          639.6322015676958,
          642.1818091917635,
          644.731416815831,
          647.2810244398987,
          649.8306320639664,
          652.380239688034,
          654.9298473121016,
          657.4794549361693,
          660.0290625602369,
          662.5786701843045,
          665.1282778083721,
          667.6778854324398,
          670.2274930565075
         ],
         "y": [
          1,
          0.9971827956989248,
          0.9971827956989248,
          0.996494623655914,
          0.996494623655914,
          0.9926881720430107,
          0.990516129032258,
          0.990516129032258,
          0.9812903225806452,
          0.9803225806451613,
          0.9795913978494624,
          0.9740215053763441,
          0.9740215053763441,
          0.9648387096774194,
          0.9618709677419355,
          0.957763440860215,
          0.9434623655913978,
          0.9341505376344086,
          0.9341505376344086,
          0.9279569892473118,
          0.9063225806451612,
          0.901505376344086,
          0.8838494623655914,
          0.8741290322580645,
          0.8741290322580645,
          0.857763440860215,
          0.8518494623655914,
          0.8386666666666667,
          0.8353118279569892,
          0.828494623655914,
          0.8148172043010753,
          0.8048172043010753,
          0.7980430107526881,
          0.7925806451612903,
          0.7837634408602151,
          0.7742150537634409,
          0.7691612903225806,
          0.758258064516129,
          0.7422795698924731,
          0.725010752688172,
          0.6977849462365592,
          0.6856129032258065,
          0.659010752688172,
          0.6345591397849463,
          0.6299354838709678,
          0.5978709677419355,
          0.5811182795698925,
          0.5598924731182796,
          0.5512688172043011,
          0.506258064516129,
          0.4838064516129032,
          0.4667096774193548,
          0.45944086021505376,
          0.4521505376344086,
          0.4475698924731183,
          0.3944516129032258,
          0.3885161290322581,
          0.3759784946236559,
          0.36806451612903224,
          0.3588172043010753,
          0.3575268817204301,
          0.3359139784946237,
          0.32870967741935486,
          0.32731182795698927,
          0.2973978494623656,
          0.2940430107526882,
          0.2744516129032258,
          0.2672043010752688,
          0.24944086021505377,
          0.2383225806451613,
          0.2160215053763441,
          0.2107311827956989,
          0.19703225806451613,
          0.17103225806451613,
          0.1309032258064516,
          0.12105376344086022,
          0.08840860215053764,
          0.08645161290322581,
          0.07868817204301075,
          0.07804301075268817,
          0.0649247311827957,
          0.0649247311827957,
          0.0532258064516129,
          0.05126881720430108,
          0.05060215053763441,
          0.05060215053763441,
          0.04995698924731183,
          0.04995698924731183,
          0.04995698924731183,
          0.03494623655913978,
          0.03494623655913978,
          0.029096774193548388,
          0.027161290322580644,
          0.027161290322580644,
          0.025870967741935483,
          0.025870967741935483,
          0.025870967741935483,
          0.013569892473118279,
          0.013569892473118279,
          0.013569892473118279
         ]
        },
        {
         "line": {
          "color": "salmon"
         },
         "mode": "lines",
         "name": "Bad Rate",
         "type": "scatter",
         "x": [
          417.81633827381154,
          420.36594589787916,
          422.91555352194683,
          425.46516114601445,
          428.01476877008207,
          430.5643763941497,
          433.11398401821737,
          435.663591642285,
          438.2131992663526,
          440.7628068904203,
          443.3124145144879,
          445.8620221385555,
          448.4116297626232,
          450.9612373866908,
          453.51084501075843,
          456.06045263482605,
          458.6100602588937,
          461.15966788296134,
          463.70927550702896,
          466.2588831310966,
          468.80849075516426,
          471.3580983792319,
          473.9077060032995,
          476.45731362736717,
          479.0069212514348,
          481.5565288755024,
          484.1061364995701,
          486.6557441236377,
          489.2053517477053,
          491.754959371773,
          494.3045669958406,
          496.85417461990824,
          499.40378224397585,
          501.9533898680435,
          504.50299749211115,
          507.05260511617877,
          509.6022127402464,
          512.1518203643141,
          514.7014279883817,
          517.2510356124493,
          519.800643236517,
          522.3502508605845,
          524.8998584846522,
          527.4494661087199,
          529.9990737327875,
          532.5486813568551,
          535.0982889809228,
          537.6478966049904,
          540.197504229058,
          542.7471118531257,
          545.2967194771933,
          547.846327101261,
          550.3959347253285,
          552.9455423493962,
          555.4951499734639,
          558.0447575975315,
          560.5943652215991,
          563.1439728456668,
          565.6935804697343,
          568.243188093802,
          570.7927957178697,
          573.3424033419373,
          575.8920109660049,
          578.4416185900725,
          580.9912262141402,
          583.5408338382078,
          586.0904414622755,
          588.6400490863431,
          591.1896567104108,
          593.7392643344783,
          596.288871958546,
          598.8384795826137,
          601.3880872066813,
          603.9376948307489,
          606.4873024548166,
          609.0369100788841,
          611.5865177029518,
          614.1361253270195,
          616.6857329510871,
          619.2353405751547,
          621.7849481992223,
          624.33455582329,
          626.8841634473577,
          629.4337710714253,
          631.9833786954929,
          634.5329863195606,
          637.0825939436281,
          639.6322015676958,
          642.1818091917635,
          644.731416815831,
          647.2810244398987,
          649.8306320639664,
          652.380239688034,
          654.9298473121016,
          657.4794549361693,
          660.0290625602369,
          662.5786701843045,
          665.1282778083721,
          667.6778854324398,
          670.2274930565075
         ],
         "y": [
          0.03225806451612903,
          0.03211197136017598,
          0.03211197136017598,
          0.03209098560545568,
          0.03209098560545568,
          0.03162911611785095,
          0.031459649579886666,
          0.031459649579886666,
          0.030900723208415515,
          0.03060217176702863,
          0.030537200061469563,
          0.030292325355471165,
          0.030292325355471165,
          0.0297559344700769,
          0.029445301495740827,
          0.029324591341835817,
          0.02828747920038294,
          0.027579538652792487,
          0.027579538652792487,
          0.027346465816917728,
          0.02619589977220957,
          0.026001908396946567,
          0.025523735370690283,
          0.02502029670086353,
          0.02502029670086353,
          0.02446973875545304,
          0.024513392744439675,
          0.02379609210728755,
          0.023737191699706502,
          0.023491239454899417,
          0.02293541661168149,
          0.02281958101752886,
          0.022609070575871082,
          0.022385022385022386,
          0.022088077925641377,
          0.02169384183772673,
          0.021137393054856568,
          0.02067557219433336,
          0.02045428207208251,
          0.02025924717468039,
          0.019940210188923474,
          0.019478686364919544,
          0.019057564286646653,
          0.018876876673331752,
          0.018844735764031135,
          0.018020934498759036,
          0.017467248908296942,
          0.01709237564816593,
          0.016930638995084655,
          0.01618452911940869,
          0.015868782504333913,
          0.015758916228918993,
          0.01563377644635836,
          0.015457788347205707,
          0.015471843167403422,
          0.013738959764474975,
          0.013616738625041515,
          0.013327232168392152,
          0.013146362839614373,
          0.012885825591848966,
          0.012932330827067668,
          0.012804097311139564,
          0.012757605495583905,
          0.012483574244415242,
          0.012943813724781256,
          0.012652673151466393,
          0.012693935119887164,
          0.012474849094567404,
          0.011983791706181567,
          0.011911207363291824,
          0.011448481831757094,
          0.011123584039187673,
          0.011132940406024885,
          0.011693700490380989,
          0.009364218827008379,
          0.008704920945105703,
          0.007540744344441742,
          0.007462686567164179,
          0.007925662749385078,
          0.007991182143841279,
          0.006293474660483604,
          0.006293474660483604,
          0.006060606060606061,
          0.00587248322147651,
          0.0055248618784530384,
          0.0055248618784530384,
          0.005596211795092553,
          0.005596211795092553,
          0.005596211795092553,
          0.003076923076923077,
          0.003076923076923077,
          0.0022172949002217295,
          0.0023752969121140144,
          0.0023752969121140144,
          0.0024937655860349127,
          0.0024937655860349127,
          0.0024937655860349127,
          0.001584786053882726,
          0.001584786053882726,
          0.001584786053882726
         ],
         "yaxis": "y2"
        }
       ],
       "layout": {
        "height": 500,
        "showlegend": false,
        "template": {
         "data": {
          "bar": [
           {
            "error_x": {
             "color": "#2a3f5f"
            },
            "error_y": {
             "color": "#2a3f5f"
            },
            "marker": {
             "line": {
              "color": "white",
              "width": 0.5
             },
             "pattern": {
              "fillmode": "overlay",
              "size": 10,
              "solidity": 0.2
             }
            },
            "type": "bar"
           }
          ],
          "barpolar": [
           {
            "marker": {
             "line": {
              "color": "white",
              "width": 0.5
             },
             "pattern": {
              "fillmode": "overlay",
              "size": 10,
              "solidity": 0.2
             }
            },
            "type": "barpolar"
           }
          ],
          "carpet": [
           {
            "aaxis": {
             "endlinecolor": "#2a3f5f",
             "gridcolor": "#C8D4E3",
             "linecolor": "#C8D4E3",
             "minorgridcolor": "#C8D4E3",
             "startlinecolor": "#2a3f5f"
            },
            "baxis": {
             "endlinecolor": "#2a3f5f",
             "gridcolor": "#C8D4E3",
             "linecolor": "#C8D4E3",
             "minorgridcolor": "#C8D4E3",
             "startlinecolor": "#2a3f5f"
            },
            "type": "carpet"
           }
          ],
          "choropleth": [
           {
            "colorbar": {
             "outlinewidth": 0,
             "ticks": ""
            },
            "type": "choropleth"
           }
          ],
          "contour": [
           {
            "colorbar": {
             "outlinewidth": 0,
             "ticks": ""
            },
            "colorscale": [
             [
              0,
              "#0d0887"
             ],
             [
              0.1111111111111111,
              "#46039f"
             ],
             [
              0.2222222222222222,
              "#7201a8"
             ],
             [
              0.3333333333333333,
              "#9c179e"
             ],
             [
              0.4444444444444444,
              "#bd3786"
             ],
             [
              0.5555555555555556,
              "#d8576b"
             ],
             [
              0.6666666666666666,
              "#ed7953"
             ],
             [
              0.7777777777777778,
              "#fb9f3a"
             ],
             [
              0.8888888888888888,
              "#fdca26"
             ],
             [
              1,
              "#f0f921"
             ]
            ],
            "type": "contour"
           }
          ],
          "contourcarpet": [
           {
            "colorbar": {
             "outlinewidth": 0,
             "ticks": ""
            },
            "type": "contourcarpet"
           }
          ],
          "heatmap": [
           {
            "colorbar": {
             "outlinewidth": 0,
             "ticks": ""
            },
            "colorscale": [
             [
              0,
              "#0d0887"
             ],
             [
              0.1111111111111111,
              "#46039f"
             ],
             [
              0.2222222222222222,
              "#7201a8"
             ],
             [
              0.3333333333333333,
              "#9c179e"
             ],
             [
              0.4444444444444444,
              "#bd3786"
             ],
             [
              0.5555555555555556,
              "#d8576b"
             ],
             [
              0.6666666666666666,
              "#ed7953"
             ],
             [
              0.7777777777777778,
              "#fb9f3a"
             ],
             [
              0.8888888888888888,
              "#fdca26"
             ],
             [
              1,
              "#f0f921"
             ]
            ],
            "type": "heatmap"
           }
          ],
          "heatmapgl": [
           {
            "colorbar": {
             "outlinewidth": 0,
             "ticks": ""
            },
            "colorscale": [
             [
              0,
              "#0d0887"
             ],
             [
              0.1111111111111111,
              "#46039f"
             ],
             [
              0.2222222222222222,
              "#7201a8"
             ],
             [
              0.3333333333333333,
              "#9c179e"
             ],
             [
              0.4444444444444444,
              "#bd3786"
             ],
             [
              0.5555555555555556,
              "#d8576b"
             ],
             [
              0.6666666666666666,
              "#ed7953"
             ],
             [
              0.7777777777777778,
              "#fb9f3a"
             ],
             [
              0.8888888888888888,
              "#fdca26"
             ],
             [
              1,
              "#f0f921"
             ]
            ],
            "type": "heatmapgl"
           }
          ],
          "histogram": [
           {
            "marker": {
             "pattern": {
              "fillmode": "overlay",
              "size": 10,
              "solidity": 0.2
             }
            },
            "type": "histogram"
           }
          ],
          "histogram2d": [
           {
            "colorbar": {
             "outlinewidth": 0,
             "ticks": ""
            },
            "colorscale": [
             [
              0,
              "#0d0887"
             ],
             [
              0.1111111111111111,
              "#46039f"
             ],
             [
              0.2222222222222222,
              "#7201a8"
             ],
             [
              0.3333333333333333,
              "#9c179e"
             ],
             [
              0.4444444444444444,
              "#bd3786"
             ],
             [
              0.5555555555555556,
              "#d8576b"
             ],
             [
              0.6666666666666666,
              "#ed7953"
             ],
             [
              0.7777777777777778,
              "#fb9f3a"
             ],
             [
              0.8888888888888888,
              "#fdca26"
             ],
             [
              1,
              "#f0f921"
             ]
            ],
            "type": "histogram2d"
           }
          ],
          "histogram2dcontour": [
           {
            "colorbar": {
             "outlinewidth": 0,
             "ticks": ""
            },
            "colorscale": [
             [
              0,
              "#0d0887"
             ],
             [
              0.1111111111111111,
              "#46039f"
             ],
             [
              0.2222222222222222,
              "#7201a8"
             ],
             [
              0.3333333333333333,
              "#9c179e"
             ],
             [
              0.4444444444444444,
              "#bd3786"
             ],
             [
              0.5555555555555556,
              "#d8576b"
             ],
             [
              0.6666666666666666,
              "#ed7953"
             ],
             [
              0.7777777777777778,
              "#fb9f3a"
             ],
             [
              0.8888888888888888,
              "#fdca26"
             ],
             [
              1,
              "#f0f921"
             ]
            ],
            "type": "histogram2dcontour"
           }
          ],
          "mesh3d": [
           {
            "colorbar": {
             "outlinewidth": 0,
             "ticks": ""
            },
            "type": "mesh3d"
           }
          ],
          "parcoords": [
           {
            "line": {
             "colorbar": {
              "outlinewidth": 0,
              "ticks": ""
             }
            },
            "type": "parcoords"
           }
          ],
          "pie": [
           {
            "automargin": true,
            "type": "pie"
           }
          ],
          "scatter": [
           {
            "fillpattern": {
             "fillmode": "overlay",
             "size": 10,
             "solidity": 0.2
            },
            "type": "scatter"
           }
          ],
          "scatter3d": [
           {
            "line": {
             "colorbar": {
              "outlinewidth": 0,
              "ticks": ""
             }
            },
            "marker": {
             "colorbar": {
              "outlinewidth": 0,
              "ticks": ""
             }
            },
            "type": "scatter3d"
           }
          ],
          "scattercarpet": [
           {
            "marker": {
             "colorbar": {
              "outlinewidth": 0,
              "ticks": ""
             }
            },
            "type": "scattercarpet"
           }
          ],
          "scattergeo": [
           {
            "marker": {
             "colorbar": {
              "outlinewidth": 0,
              "ticks": ""
             }
            },
            "type": "scattergeo"
           }
          ],
          "scattergl": [
           {
            "marker": {
             "colorbar": {
              "outlinewidth": 0,
              "ticks": ""
             }
            },
            "type": "scattergl"
           }
          ],
          "scattermapbox": [
           {
            "marker": {
             "colorbar": {
              "outlinewidth": 0,
              "ticks": ""
             }
            },
            "type": "scattermapbox"
           }
          ],
          "scatterpolar": [
           {
            "marker": {
             "colorbar": {
              "outlinewidth": 0,
              "ticks": ""
             }
            },
            "type": "scatterpolar"
           }
          ],
          "scatterpolargl": [
           {
            "marker": {
             "colorbar": {
              "outlinewidth": 0,
              "ticks": ""
             }
            },
            "type": "scatterpolargl"
           }
          ],
          "scatterternary": [
           {
            "marker": {
             "colorbar": {
              "outlinewidth": 0,
              "ticks": ""
             }
            },
            "type": "scatterternary"
           }
          ],
          "surface": [
           {
            "colorbar": {
             "outlinewidth": 0,
             "ticks": ""
            },
            "colorscale": [
             [
              0,
              "#0d0887"
             ],
             [
              0.1111111111111111,
              "#46039f"
             ],
             [
              0.2222222222222222,
              "#7201a8"
             ],
             [
              0.3333333333333333,
              "#9c179e"
             ],
             [
              0.4444444444444444,
              "#bd3786"
             ],
             [
              0.5555555555555556,
              "#d8576b"
             ],
             [
              0.6666666666666666,
              "#ed7953"
             ],
             [
              0.7777777777777778,
              "#fb9f3a"
             ],
             [
              0.8888888888888888,
              "#fdca26"
             ],
             [
              1,
              "#f0f921"
             ]
            ],
            "type": "surface"
           }
          ],
          "table": [
           {
            "cells": {
             "fill": {
              "color": "#EBF0F8"
             },
             "line": {
              "color": "white"
             }
            },
            "header": {
             "fill": {
              "color": "#C8D4E3"
             },
             "line": {
              "color": "white"
             }
            },
            "type": "table"
           }
          ]
         },
         "layout": {
          "annotationdefaults": {
           "arrowcolor": "#2a3f5f",
           "arrowhead": 0,
           "arrowwidth": 1
          },
          "autotypenumbers": "strict",
          "coloraxis": {
           "colorbar": {
            "outlinewidth": 0,
            "ticks": ""
           }
          },
          "colorscale": {
           "diverging": [
            [
             0,
             "#8e0152"
            ],
            [
             0.1,
             "#c51b7d"
            ],
            [
             0.2,
             "#de77ae"
            ],
            [
             0.3,
             "#f1b6da"
            ],
            [
             0.4,
             "#fde0ef"
            ],
            [
             0.5,
             "#f7f7f7"
            ],
            [
             0.6,
             "#e6f5d0"
            ],
            [
             0.7,
             "#b8e186"
            ],
            [
             0.8,
             "#7fbc41"
            ],
            [
             0.9,
             "#4d9221"
            ],
            [
             1,
             "#276419"
            ]
           ],
           "sequential": [
            [
             0,
             "#0d0887"
            ],
            [
             0.1111111111111111,
             "#46039f"
            ],
            [
             0.2222222222222222,
             "#7201a8"
            ],
            [
             0.3333333333333333,
             "#9c179e"
            ],
            [
             0.4444444444444444,
             "#bd3786"
            ],
            [
             0.5555555555555556,
             "#d8576b"
            ],
            [
             0.6666666666666666,
             "#ed7953"
            ],
            [
             0.7777777777777778,
             "#fb9f3a"
            ],
            [
             0.8888888888888888,
             "#fdca26"
            ],
            [
             1,
             "#f0f921"
            ]
           ],
           "sequentialminus": [
            [
             0,
             "#0d0887"
            ],
            [
             0.1111111111111111,
             "#46039f"
            ],
            [
             0.2222222222222222,
             "#7201a8"
            ],
            [
             0.3333333333333333,
             "#9c179e"
            ],
            [
             0.4444444444444444,
             "#bd3786"
            ],
            [
             0.5555555555555556,
             "#d8576b"
            ],
            [
             0.6666666666666666,
             "#ed7953"
            ],
            [
             0.7777777777777778,
             "#fb9f3a"
            ],
            [
             0.8888888888888888,
             "#fdca26"
            ],
            [
             1,
             "#f0f921"
            ]
           ]
          },
          "colorway": [
           "#636efa",
           "#EF553B",
           "#00cc96",
           "#ab63fa",
           "#FFA15A",
           "#19d3f3",
           "#FF6692",
           "#B6E880",
           "#FF97FF",
           "#FECB52"
          ],
          "font": {
           "color": "#2a3f5f"
          },
          "geo": {
           "bgcolor": "white",
           "lakecolor": "white",
           "landcolor": "white",
           "showlakes": true,
           "showland": true,
           "subunitcolor": "#C8D4E3"
          },
          "hoverlabel": {
           "align": "left"
          },
          "hovermode": "closest",
          "mapbox": {
           "style": "light"
          },
          "paper_bgcolor": "white",
          "plot_bgcolor": "white",
          "polar": {
           "angularaxis": {
            "gridcolor": "#EBF0F8",
            "linecolor": "#EBF0F8",
            "ticks": ""
           },
           "bgcolor": "white",
           "radialaxis": {
            "gridcolor": "#EBF0F8",
            "linecolor": "#EBF0F8",
            "ticks": ""
           }
          },
          "scene": {
           "xaxis": {
            "backgroundcolor": "white",
            "gridcolor": "#DFE8F3",
            "gridwidth": 2,
            "linecolor": "#EBF0F8",
            "showbackground": true,
            "ticks": "",
            "zerolinecolor": "#EBF0F8"
           },
           "yaxis": {
            "backgroundcolor": "white",
            "gridcolor": "#DFE8F3",
            "gridwidth": 2,
            "linecolor": "#EBF0F8",
            "showbackground": true,
            "ticks": "",
            "zerolinecolor": "#EBF0F8"
           },
           "zaxis": {
            "backgroundcolor": "white",
            "gridcolor": "#DFE8F3",
            "gridwidth": 2,
            "linecolor": "#EBF0F8",
            "showbackground": true,
            "ticks": "",
            "zerolinecolor": "#EBF0F8"
           }
          },
          "shapedefaults": {
           "line": {
            "color": "#2a3f5f"
           }
          },
          "ternary": {
           "aaxis": {
            "gridcolor": "#DFE8F3",
            "linecolor": "#A2B1C6",
            "ticks": ""
           },
           "baxis": {
            "gridcolor": "#DFE8F3",
            "linecolor": "#A2B1C6",
            "ticks": ""
           },
           "bgcolor": "white",
           "caxis": {
            "gridcolor": "#DFE8F3",
            "linecolor": "#A2B1C6",
            "ticks": ""
           }
          },
          "title": {
           "x": 0.05
          },
          "xaxis": {
           "automargin": true,
           "gridcolor": "#EBF0F8",
           "linecolor": "#EBF0F8",
           "ticks": "",
           "title": {
            "standoff": 15
           },
           "zerolinecolor": "#EBF0F8",
           "zerolinewidth": 2
          },
          "yaxis": {
           "automargin": true,
           "gridcolor": "#EBF0F8",
           "linecolor": "#EBF0F8",
           "ticks": "",
           "title": {
            "standoff": 15
           },
           "zerolinecolor": "#EBF0F8",
           "zerolinewidth": 2
          }
         }
        },
        "title": {
         "text": "Acceptance Rate and Bad Rate at Different Scorecard Values"
        },
        "width": 800,
        "xaxis": {
         "title": {
          "text": "Scorecard Value"
         }
        },
        "yaxis": {
         "tickfont": {
          "color": "skyblue"
         },
         "title": {
          "font": {
           "color": "skyblue"
          },
          "text": "Acceptance Rate"
         }
        },
        "yaxis2": {
         "overlaying": "y",
         "side": "right",
         "tickfont": {
          "color": "salmon"
         },
         "title": {
          "font": {
           "color": "salmon"
          },
          "text": "Bad Rate"
         }
        }
       }
      }
     },
     "metadata": {},
     "output_type": "display_data"
    }
   ],
   "source": [
    "import plotly.graph_objects as go\n",
    "import numpy as np\n",
    "\n",
    "# Get the minimum and maximum score values\n",
    "score_min = test_final['score'].min()\n",
    "score_max = test_final['score'].max()\n",
    "\n",
    "# Generate thresholds\n",
    "thresholds = np.linspace(score_min, score_max, 100)\n",
    "\n",
    "# Initialize lists to store results\n",
    "acceptance_rates = []\n",
    "default_rates = []\n",
    "\n",
    "# Total weight in the dataset\n",
    "total_weight = test_final['_freq_'].sum()\n",
    "\n",
    "for threshold in thresholds:\n",
    "    # Select the customers whose score is greater than or equal to the threshold\n",
    "    accepted = test_final[test_final['score'] >= threshold]\n",
    "    \n",
    "    # Calculate the total weight for accepted customers\n",
    "    accepted_weight = accepted['_freq_'].sum()\n",
    "    \n",
    "    # Calculate the weighted acceptance rate\n",
    "    acceptance_rate = accepted_weight / total_weight\n",
    "    acceptance_rates.append(acceptance_rate)\n",
    "    \n",
    "    # Calculate the total weight for defaults (GB == 1) among accepted customers\n",
    "    default_weight = accepted[accepted['GB'] == 1]['_freq_'].sum()\n",
    "    \n",
    "    # Calculate the weighted default rate\n",
    "    default_rate = default_weight / accepted_weight if accepted_weight > 0 else 0\n",
    "    default_rates.append(default_rate)\n",
    "\n",
    "# Create the figure\n",
    "fig = go.Figure()\n",
    "\n",
    "# Add the acceptance rate trace\n",
    "fig.add_trace(go.Scatter(\n",
    "    x=thresholds,\n",
    "    y=acceptance_rates,\n",
    "    mode='lines',\n",
    "    name='Acceptance Rate',\n",
    "    line=dict(color='skyblue')\n",
    "))\n",
    "\n",
    "# Add the default rate trace\n",
    "fig.add_trace(go.Scatter(\n",
    "    x=thresholds,\n",
    "    y=default_rates,\n",
    "    mode='lines',\n",
    "    name='Bad Rate',\n",
    "    line=dict(color='salmon'),\n",
    "    yaxis='y2'\n",
    "))\n",
    "\n",
    "# Update the layout\n",
    "fig.update_layout(\n",
    "    title='Acceptance Rate and Bad Rate at Different Scorecard Values',\n",
    "    xaxis=dict(title='Scorecard Value'),\n",
    "    yaxis=dict(\n",
    "        title='Acceptance Rate',\n",
    "        titlefont=dict(color='skyblue'),\n",
    "        tickfont=dict(color='skyblue')\n",
    "    ),\n",
    "    yaxis2=dict(\n",
    "        title='Bad Rate',\n",
    "        titlefont=dict(color='salmon'),\n",
    "        tickfont=dict(color='salmon'),\n",
    "        overlaying='y',\n",
    "        side='right'\n",
    "    ),\n",
    "    template='plotly_white',\n",
    "    width = 800,\n",
    "    height = 500\n",
    ")\n",
    "\n",
    "fig.update_layout(showlegend=False)\n",
    "\n",
    "# Show the figure\n",
    "fig.show()\n"
   ]
  },
  {
   "cell_type": "code",
   "execution_count": 38,
   "metadata": {},
   "outputs": [
    {
     "data": {
      "application/vnd.plotly.v1+json": {
       "config": {
        "plotlyServerURL": "https://plot.ly"
       },
       "data": [
        {
         "line": {
          "color": "skyblue"
         },
         "mode": "lines",
         "name": "Acceptance Rate (%)",
         "type": "scatter",
         "x": [
          417.81633827381154,
          420.36594589787916,
          422.91555352194683,
          425.46516114601445,
          428.01476877008207,
          430.5643763941497,
          433.11398401821737,
          435.663591642285,
          438.2131992663526,
          440.7628068904203,
          443.3124145144879,
          445.8620221385555,
          448.4116297626232,
          450.9612373866908,
          453.51084501075843,
          456.06045263482605,
          458.6100602588937,
          461.15966788296134,
          463.70927550702896,
          466.2588831310966,
          468.80849075516426,
          471.3580983792319,
          473.9077060032995,
          476.45731362736717,
          479.0069212514348,
          481.5565288755024,
          484.1061364995701,
          486.6557441236377,
          489.2053517477053,
          491.754959371773,
          494.3045669958406,
          496.85417461990824,
          499.40378224397585,
          501.9533898680435,
          504.50299749211115,
          507.05260511617877,
          509.6022127402464,
          512.1518203643141,
          514.7014279883817,
          517.2510356124493,
          519.800643236517,
          522.3502508605845,
          524.8998584846522,
          527.4494661087199,
          529.9990737327875,
          532.5486813568551,
          535.0982889809228,
          537.6478966049904,
          540.197504229058,
          542.7471118531257,
          545.2967194771933,
          547.846327101261,
          550.3959347253285,
          552.9455423493962,
          555.4951499734639,
          558.0447575975315,
          560.5943652215991,
          563.1439728456668,
          565.6935804697343,
          568.243188093802,
          570.7927957178697,
          573.3424033419373,
          575.8920109660049,
          578.4416185900725,
          580.9912262141402,
          583.5408338382078,
          586.0904414622755,
          588.6400490863431,
          591.1896567104108,
          593.7392643344783,
          596.288871958546,
          598.8384795826137,
          601.3880872066813,
          603.9376948307489,
          606.4873024548166,
          609.0369100788841,
          611.5865177029518,
          614.1361253270195,
          616.6857329510871,
          619.2353405751547,
          621.7849481992223,
          624.33455582329,
          626.8841634473577,
          629.4337710714253,
          631.9833786954929,
          634.5329863195606,
          637.0825939436281,
          639.6322015676958,
          642.1818091917635,
          644.731416815831,
          647.2810244398987,
          649.8306320639664,
          652.380239688034,
          654.9298473121016,
          657.4794549361693,
          660.0290625602369,
          662.5786701843045,
          665.1282778083721,
          667.6778854324398,
          670.2274930565075
         ],
         "y": [
          1,
          0.9971827956989248,
          0.9971827956989248,
          0.996494623655914,
          0.996494623655914,
          0.9926881720430107,
          0.990516129032258,
          0.990516129032258,
          0.9812903225806452,
          0.9803225806451613,
          0.9795913978494624,
          0.9740215053763441,
          0.9740215053763441,
          0.9648387096774194,
          0.9618709677419355,
          0.957763440860215,
          0.9434623655913978,
          0.9341505376344086,
          0.9341505376344086,
          0.9279569892473118,
          0.9063225806451612,
          0.901505376344086,
          0.8838494623655914,
          0.8741290322580645,
          0.8741290322580645,
          0.857763440860215,
          0.8518494623655914,
          0.8386666666666667,
          0.8353118279569892,
          0.828494623655914,
          0.8148172043010753,
          0.8048172043010753,
          0.7980430107526881,
          0.7925806451612903,
          0.7837634408602151,
          0.7742150537634409,
          0.7691612903225806,
          0.758258064516129,
          0.7422795698924731,
          0.725010752688172,
          0.6977849462365592,
          0.6856129032258065,
          0.659010752688172,
          0.6345591397849463,
          0.6299354838709678,
          0.5978709677419355,
          0.5811182795698925,
          0.5598924731182796,
          0.5512688172043011,
          0.506258064516129,
          0.4838064516129032,
          0.4667096774193548,
          0.45944086021505376,
          0.4521505376344086,
          0.4475698924731183,
          0.3944516129032258,
          0.3885161290322581,
          0.3759784946236559,
          0.36806451612903224,
          0.3588172043010753,
          0.3575268817204301,
          0.3359139784946237,
          0.32870967741935486,
          0.32731182795698927,
          0.2973978494623656,
          0.2940430107526882,
          0.2744516129032258,
          0.2672043010752688,
          0.24944086021505377,
          0.2383225806451613,
          0.2160215053763441,
          0.2107311827956989,
          0.19703225806451613,
          0.17103225806451613,
          0.1309032258064516,
          0.12105376344086022,
          0.08840860215053764,
          0.08645161290322581,
          0.07868817204301075,
          0.07804301075268817,
          0.0649247311827957,
          0.0649247311827957,
          0.0532258064516129,
          0.05126881720430108,
          0.05060215053763441,
          0.05060215053763441,
          0.04995698924731183,
          0.04995698924731183,
          0.04995698924731183,
          0.03494623655913978,
          0.03494623655913978,
          0.029096774193548388,
          0.027161290322580644,
          0.027161290322580644,
          0.025870967741935483,
          0.025870967741935483,
          0.025870967741935483,
          0.013569892473118279,
          0.013569892473118279,
          0.013569892473118279
         ]
        },
        {
         "line": {
          "color": "green"
         },
         "mode": "lines",
         "name": "Profit",
         "type": "scatter",
         "x": [
          417.81633827381154,
          420.36594589787916,
          422.91555352194683,
          425.46516114601445,
          428.01476877008207,
          430.5643763941497,
          433.11398401821737,
          435.663591642285,
          438.2131992663526,
          440.7628068904203,
          443.3124145144879,
          445.8620221385555,
          448.4116297626232,
          450.9612373866908,
          453.51084501075843,
          456.06045263482605,
          458.6100602588937,
          461.15966788296134,
          463.70927550702896,
          466.2588831310966,
          468.80849075516426,
          471.3580983792319,
          473.9077060032995,
          476.45731362736717,
          479.0069212514348,
          481.5565288755024,
          484.1061364995701,
          486.6557441236377,
          489.2053517477053,
          491.754959371773,
          494.3045669958406,
          496.85417461990824,
          499.40378224397585,
          501.9533898680435,
          504.50299749211115,
          507.05260511617877,
          509.6022127402464,
          512.1518203643141,
          514.7014279883817,
          517.2510356124493,
          519.800643236517,
          522.3502508605845,
          524.8998584846522,
          527.4494661087199,
          529.9990737327875,
          532.5486813568551,
          535.0982889809228,
          537.6478966049904,
          540.197504229058,
          542.7471118531257,
          545.2967194771933,
          547.846327101261,
          550.3959347253285,
          552.9455423493962,
          555.4951499734639,
          558.0447575975315,
          560.5943652215991,
          563.1439728456668,
          565.6935804697343,
          568.243188093802,
          570.7927957178697,
          573.3424033419373,
          575.8920109660049,
          578.4416185900725,
          580.9912262141402,
          583.5408338382078,
          586.0904414622755,
          588.6400490863431,
          591.1896567104108,
          593.7392643344783,
          596.288871958546,
          598.8384795826137,
          601.3880872066813,
          603.9376948307489,
          606.4873024548166,
          609.0369100788841,
          611.5865177029518,
          614.1361253270195,
          616.6857329510871,
          619.2353405751547,
          621.7849481992223,
          624.33455582329,
          626.8841634473577,
          629.4337710714253,
          631.9833786954929,
          634.5329863195606,
          637.0825939436281,
          639.6322015676958,
          642.1818091917635,
          644.731416815831,
          647.2810244398987,
          649.8306320639664,
          652.380239688034,
          654.9298473121016,
          657.4794549361693,
          660.0290625602369,
          662.5786701843045,
          665.1282778083721,
          667.6778854324398,
          670.2274930565075
         ],
         "y": [
          12000000,
          12332000,
          12332000,
          12376000,
          12376000,
          13480000,
          13872000,
          13872000,
          15120000,
          15840000,
          15988000,
          16496000,
          16496000,
          17640000,
          18336000,
          18548000,
          20728000,
          22184000,
          22184000,
          22580000,
          24672000,
          24980000,
          25552000,
          26376000,
          26376000,
          27068000,
          26788000,
          27884000,
          27896000,
          28180000,
          28852000,
          28732000,
          28912000,
          29160000,
          29420000,
          29828000,
          30708000,
          31152000,
          30908000,
          30544000,
          29956000,
          30228000,
          29752000,
          28936000,
          28776000,
          28548000,
          28556000,
          28040000,
          27832000,
          26508000,
          25716000,
          24936000,
          24692000,
          24500000,
          24236000,
          23076000,
          22848000,
          22384000,
          22080000,
          21760000,
          21640000,
          20440000,
          20040000,
          20180000,
          17992000,
          18004000,
          16776000,
          16480000,
          15692000,
          15036000,
          13880000,
          13712000,
          12816000,
          10884000,
          9096000,
          8612000,
          6548000,
          6420000,
          5752000,
          5692000,
          5012000,
          5012000,
          4140000,
          4012000,
          4004000,
          4004000,
          3944000,
          3944000,
          3944000,
          2980000,
          2980000,
          2544000,
          2364000,
          2364000,
          2244000,
          2244000,
          2244000,
          1208000,
          1208000,
          1208000
         ],
         "yaxis": "y2"
        }
       ],
       "layout": {
        "height": 500,
        "showlegend": false,
        "template": {
         "data": {
          "bar": [
           {
            "error_x": {
             "color": "#2a3f5f"
            },
            "error_y": {
             "color": "#2a3f5f"
            },
            "marker": {
             "line": {
              "color": "white",
              "width": 0.5
             },
             "pattern": {
              "fillmode": "overlay",
              "size": 10,
              "solidity": 0.2
             }
            },
            "type": "bar"
           }
          ],
          "barpolar": [
           {
            "marker": {
             "line": {
              "color": "white",
              "width": 0.5
             },
             "pattern": {
              "fillmode": "overlay",
              "size": 10,
              "solidity": 0.2
             }
            },
            "type": "barpolar"
           }
          ],
          "carpet": [
           {
            "aaxis": {
             "endlinecolor": "#2a3f5f",
             "gridcolor": "#C8D4E3",
             "linecolor": "#C8D4E3",
             "minorgridcolor": "#C8D4E3",
             "startlinecolor": "#2a3f5f"
            },
            "baxis": {
             "endlinecolor": "#2a3f5f",
             "gridcolor": "#C8D4E3",
             "linecolor": "#C8D4E3",
             "minorgridcolor": "#C8D4E3",
             "startlinecolor": "#2a3f5f"
            },
            "type": "carpet"
           }
          ],
          "choropleth": [
           {
            "colorbar": {
             "outlinewidth": 0,
             "ticks": ""
            },
            "type": "choropleth"
           }
          ],
          "contour": [
           {
            "colorbar": {
             "outlinewidth": 0,
             "ticks": ""
            },
            "colorscale": [
             [
              0,
              "#0d0887"
             ],
             [
              0.1111111111111111,
              "#46039f"
             ],
             [
              0.2222222222222222,
              "#7201a8"
             ],
             [
              0.3333333333333333,
              "#9c179e"
             ],
             [
              0.4444444444444444,
              "#bd3786"
             ],
             [
              0.5555555555555556,
              "#d8576b"
             ],
             [
              0.6666666666666666,
              "#ed7953"
             ],
             [
              0.7777777777777778,
              "#fb9f3a"
             ],
             [
              0.8888888888888888,
              "#fdca26"
             ],
             [
              1,
              "#f0f921"
             ]
            ],
            "type": "contour"
           }
          ],
          "contourcarpet": [
           {
            "colorbar": {
             "outlinewidth": 0,
             "ticks": ""
            },
            "type": "contourcarpet"
           }
          ],
          "heatmap": [
           {
            "colorbar": {
             "outlinewidth": 0,
             "ticks": ""
            },
            "colorscale": [
             [
              0,
              "#0d0887"
             ],
             [
              0.1111111111111111,
              "#46039f"
             ],
             [
              0.2222222222222222,
              "#7201a8"
             ],
             [
              0.3333333333333333,
              "#9c179e"
             ],
             [
              0.4444444444444444,
              "#bd3786"
             ],
             [
              0.5555555555555556,
              "#d8576b"
             ],
             [
              0.6666666666666666,
              "#ed7953"
             ],
             [
              0.7777777777777778,
              "#fb9f3a"
             ],
             [
              0.8888888888888888,
              "#fdca26"
             ],
             [
              1,
              "#f0f921"
             ]
            ],
            "type": "heatmap"
           }
          ],
          "heatmapgl": [
           {
            "colorbar": {
             "outlinewidth": 0,
             "ticks": ""
            },
            "colorscale": [
             [
              0,
              "#0d0887"
             ],
             [
              0.1111111111111111,
              "#46039f"
             ],
             [
              0.2222222222222222,
              "#7201a8"
             ],
             [
              0.3333333333333333,
              "#9c179e"
             ],
             [
              0.4444444444444444,
              "#bd3786"
             ],
             [
              0.5555555555555556,
              "#d8576b"
             ],
             [
              0.6666666666666666,
              "#ed7953"
             ],
             [
              0.7777777777777778,
              "#fb9f3a"
             ],
             [
              0.8888888888888888,
              "#fdca26"
             ],
             [
              1,
              "#f0f921"
             ]
            ],
            "type": "heatmapgl"
           }
          ],
          "histogram": [
           {
            "marker": {
             "pattern": {
              "fillmode": "overlay",
              "size": 10,
              "solidity": 0.2
             }
            },
            "type": "histogram"
           }
          ],
          "histogram2d": [
           {
            "colorbar": {
             "outlinewidth": 0,
             "ticks": ""
            },
            "colorscale": [
             [
              0,
              "#0d0887"
             ],
             [
              0.1111111111111111,
              "#46039f"
             ],
             [
              0.2222222222222222,
              "#7201a8"
             ],
             [
              0.3333333333333333,
              "#9c179e"
             ],
             [
              0.4444444444444444,
              "#bd3786"
             ],
             [
              0.5555555555555556,
              "#d8576b"
             ],
             [
              0.6666666666666666,
              "#ed7953"
             ],
             [
              0.7777777777777778,
              "#fb9f3a"
             ],
             [
              0.8888888888888888,
              "#fdca26"
             ],
             [
              1,
              "#f0f921"
             ]
            ],
            "type": "histogram2d"
           }
          ],
          "histogram2dcontour": [
           {
            "colorbar": {
             "outlinewidth": 0,
             "ticks": ""
            },
            "colorscale": [
             [
              0,
              "#0d0887"
             ],
             [
              0.1111111111111111,
              "#46039f"
             ],
             [
              0.2222222222222222,
              "#7201a8"
             ],
             [
              0.3333333333333333,
              "#9c179e"
             ],
             [
              0.4444444444444444,
              "#bd3786"
             ],
             [
              0.5555555555555556,
              "#d8576b"
             ],
             [
              0.6666666666666666,
              "#ed7953"
             ],
             [
              0.7777777777777778,
              "#fb9f3a"
             ],
             [
              0.8888888888888888,
              "#fdca26"
             ],
             [
              1,
              "#f0f921"
             ]
            ],
            "type": "histogram2dcontour"
           }
          ],
          "mesh3d": [
           {
            "colorbar": {
             "outlinewidth": 0,
             "ticks": ""
            },
            "type": "mesh3d"
           }
          ],
          "parcoords": [
           {
            "line": {
             "colorbar": {
              "outlinewidth": 0,
              "ticks": ""
             }
            },
            "type": "parcoords"
           }
          ],
          "pie": [
           {
            "automargin": true,
            "type": "pie"
           }
          ],
          "scatter": [
           {
            "fillpattern": {
             "fillmode": "overlay",
             "size": 10,
             "solidity": 0.2
            },
            "type": "scatter"
           }
          ],
          "scatter3d": [
           {
            "line": {
             "colorbar": {
              "outlinewidth": 0,
              "ticks": ""
             }
            },
            "marker": {
             "colorbar": {
              "outlinewidth": 0,
              "ticks": ""
             }
            },
            "type": "scatter3d"
           }
          ],
          "scattercarpet": [
           {
            "marker": {
             "colorbar": {
              "outlinewidth": 0,
              "ticks": ""
             }
            },
            "type": "scattercarpet"
           }
          ],
          "scattergeo": [
           {
            "marker": {
             "colorbar": {
              "outlinewidth": 0,
              "ticks": ""
             }
            },
            "type": "scattergeo"
           }
          ],
          "scattergl": [
           {
            "marker": {
             "colorbar": {
              "outlinewidth": 0,
              "ticks": ""
             }
            },
            "type": "scattergl"
           }
          ],
          "scattermapbox": [
           {
            "marker": {
             "colorbar": {
              "outlinewidth": 0,
              "ticks": ""
             }
            },
            "type": "scattermapbox"
           }
          ],
          "scatterpolar": [
           {
            "marker": {
             "colorbar": {
              "outlinewidth": 0,
              "ticks": ""
             }
            },
            "type": "scatterpolar"
           }
          ],
          "scatterpolargl": [
           {
            "marker": {
             "colorbar": {
              "outlinewidth": 0,
              "ticks": ""
             }
            },
            "type": "scatterpolargl"
           }
          ],
          "scatterternary": [
           {
            "marker": {
             "colorbar": {
              "outlinewidth": 0,
              "ticks": ""
             }
            },
            "type": "scatterternary"
           }
          ],
          "surface": [
           {
            "colorbar": {
             "outlinewidth": 0,
             "ticks": ""
            },
            "colorscale": [
             [
              0,
              "#0d0887"
             ],
             [
              0.1111111111111111,
              "#46039f"
             ],
             [
              0.2222222222222222,
              "#7201a8"
             ],
             [
              0.3333333333333333,
              "#9c179e"
             ],
             [
              0.4444444444444444,
              "#bd3786"
             ],
             [
              0.5555555555555556,
              "#d8576b"
             ],
             [
              0.6666666666666666,
              "#ed7953"
             ],
             [
              0.7777777777777778,
              "#fb9f3a"
             ],
             [
              0.8888888888888888,
              "#fdca26"
             ],
             [
              1,
              "#f0f921"
             ]
            ],
            "type": "surface"
           }
          ],
          "table": [
           {
            "cells": {
             "fill": {
              "color": "#EBF0F8"
             },
             "line": {
              "color": "white"
             }
            },
            "header": {
             "fill": {
              "color": "#C8D4E3"
             },
             "line": {
              "color": "white"
             }
            },
            "type": "table"
           }
          ]
         },
         "layout": {
          "annotationdefaults": {
           "arrowcolor": "#2a3f5f",
           "arrowhead": 0,
           "arrowwidth": 1
          },
          "autotypenumbers": "strict",
          "coloraxis": {
           "colorbar": {
            "outlinewidth": 0,
            "ticks": ""
           }
          },
          "colorscale": {
           "diverging": [
            [
             0,
             "#8e0152"
            ],
            [
             0.1,
             "#c51b7d"
            ],
            [
             0.2,
             "#de77ae"
            ],
            [
             0.3,
             "#f1b6da"
            ],
            [
             0.4,
             "#fde0ef"
            ],
            [
             0.5,
             "#f7f7f7"
            ],
            [
             0.6,
             "#e6f5d0"
            ],
            [
             0.7,
             "#b8e186"
            ],
            [
             0.8,
             "#7fbc41"
            ],
            [
             0.9,
             "#4d9221"
            ],
            [
             1,
             "#276419"
            ]
           ],
           "sequential": [
            [
             0,
             "#0d0887"
            ],
            [
             0.1111111111111111,
             "#46039f"
            ],
            [
             0.2222222222222222,
             "#7201a8"
            ],
            [
             0.3333333333333333,
             "#9c179e"
            ],
            [
             0.4444444444444444,
             "#bd3786"
            ],
            [
             0.5555555555555556,
             "#d8576b"
            ],
            [
             0.6666666666666666,
             "#ed7953"
            ],
            [
             0.7777777777777778,
             "#fb9f3a"
            ],
            [
             0.8888888888888888,
             "#fdca26"
            ],
            [
             1,
             "#f0f921"
            ]
           ],
           "sequentialminus": [
            [
             0,
             "#0d0887"
            ],
            [
             0.1111111111111111,
             "#46039f"
            ],
            [
             0.2222222222222222,
             "#7201a8"
            ],
            [
             0.3333333333333333,
             "#9c179e"
            ],
            [
             0.4444444444444444,
             "#bd3786"
            ],
            [
             0.5555555555555556,
             "#d8576b"
            ],
            [
             0.6666666666666666,
             "#ed7953"
            ],
            [
             0.7777777777777778,
             "#fb9f3a"
            ],
            [
             0.8888888888888888,
             "#fdca26"
            ],
            [
             1,
             "#f0f921"
            ]
           ]
          },
          "colorway": [
           "#636efa",
           "#EF553B",
           "#00cc96",
           "#ab63fa",
           "#FFA15A",
           "#19d3f3",
           "#FF6692",
           "#B6E880",
           "#FF97FF",
           "#FECB52"
          ],
          "font": {
           "color": "#2a3f5f"
          },
          "geo": {
           "bgcolor": "white",
           "lakecolor": "white",
           "landcolor": "white",
           "showlakes": true,
           "showland": true,
           "subunitcolor": "#C8D4E3"
          },
          "hoverlabel": {
           "align": "left"
          },
          "hovermode": "closest",
          "mapbox": {
           "style": "light"
          },
          "paper_bgcolor": "white",
          "plot_bgcolor": "white",
          "polar": {
           "angularaxis": {
            "gridcolor": "#EBF0F8",
            "linecolor": "#EBF0F8",
            "ticks": ""
           },
           "bgcolor": "white",
           "radialaxis": {
            "gridcolor": "#EBF0F8",
            "linecolor": "#EBF0F8",
            "ticks": ""
           }
          },
          "scene": {
           "xaxis": {
            "backgroundcolor": "white",
            "gridcolor": "#DFE8F3",
            "gridwidth": 2,
            "linecolor": "#EBF0F8",
            "showbackground": true,
            "ticks": "",
            "zerolinecolor": "#EBF0F8"
           },
           "yaxis": {
            "backgroundcolor": "white",
            "gridcolor": "#DFE8F3",
            "gridwidth": 2,
            "linecolor": "#EBF0F8",
            "showbackground": true,
            "ticks": "",
            "zerolinecolor": "#EBF0F8"
           },
           "zaxis": {
            "backgroundcolor": "white",
            "gridcolor": "#DFE8F3",
            "gridwidth": 2,
            "linecolor": "#EBF0F8",
            "showbackground": true,
            "ticks": "",
            "zerolinecolor": "#EBF0F8"
           }
          },
          "shapedefaults": {
           "line": {
            "color": "#2a3f5f"
           }
          },
          "ternary": {
           "aaxis": {
            "gridcolor": "#DFE8F3",
            "linecolor": "#A2B1C6",
            "ticks": ""
           },
           "baxis": {
            "gridcolor": "#DFE8F3",
            "linecolor": "#A2B1C6",
            "ticks": ""
           },
           "bgcolor": "white",
           "caxis": {
            "gridcolor": "#DFE8F3",
            "linecolor": "#A2B1C6",
            "ticks": ""
           }
          },
          "title": {
           "x": 0.05
          },
          "xaxis": {
           "automargin": true,
           "gridcolor": "#EBF0F8",
           "linecolor": "#EBF0F8",
           "ticks": "",
           "title": {
            "standoff": 15
           },
           "zerolinecolor": "#EBF0F8",
           "zerolinewidth": 2
          },
          "yaxis": {
           "automargin": true,
           "gridcolor": "#EBF0F8",
           "linecolor": "#EBF0F8",
           "ticks": "",
           "title": {
            "standoff": 15
           },
           "zerolinecolor": "#EBF0F8",
           "zerolinewidth": 2
          }
         }
        },
        "title": {
         "text": "Acceptance Rate and Profit at Different Scorecard Values"
        },
        "width": 800,
        "xaxis": {
         "title": {
          "text": "Scorecard Value"
         }
        },
        "yaxis": {
         "tickfont": {
          "color": "skyblue"
         },
         "title": {
          "font": {
           "color": "skyblue"
          },
          "text": "Acceptance Rate (%)"
         }
        },
        "yaxis2": {
         "overlaying": "y",
         "side": "right",
         "tickfont": {
          "color": "green"
         },
         "title": {
          "font": {
           "color": "green"
          },
          "text": "Profit"
         }
        }
       }
      }
     },
     "metadata": {},
     "output_type": "display_data"
    }
   ],
   "source": [
    "import plotly.graph_objects as go\n",
    "import numpy as np\n",
    "\n",
    "# Assuming test_final contains the scorecard values in 'score', the target variable 'GB' (1 for default, 0 for non-default),\n",
    "# and the weight of each record in 'weights'\n",
    "\n",
    "# Define the thresholds you want to consider for acceptance (e.g., ranging from the minimum to the maximum score)\n",
    "score_min = test_final['score'].min()\n",
    "score_max = test_final['score'].max()\n",
    "\n",
    "# Define expected revenue and cost\n",
    "expected_revenue = 2000\n",
    "expected_cost = 52000\n",
    "\n",
    "# Generate a list of threshold values between the min and max score\n",
    "thresholds = np.linspace(score_min, score_max, 100)\n",
    "\n",
    "# Calculate acceptance rate, default rate, and profit for each threshold\n",
    "acceptance_rates = []\n",
    "default_rates = []\n",
    "profits = []\n",
    "\n",
    "# Calculate the total weight for normalization\n",
    "total_weight = test_final['_freq_'].sum()\n",
    "\n",
    "for threshold in thresholds:\n",
    "    # Select the customers whose score is greater than or equal to the threshold\n",
    "    accepted = test_final[test_final['score'] >= threshold]\n",
    "    \n",
    "    # Calculate the weighted acceptance rate\n",
    "    accepted_weight = accepted['_freq_'].sum()\n",
    "    acceptance_rate = accepted_weight / total_weight\n",
    "    acceptance_rates.append(acceptance_rate)\n",
    "    \n",
    "    # Calculate the weighted default rate for the accepted customers\n",
    "    default_weight = accepted[accepted['GB'] == 1]['_freq_'].sum()\n",
    "    default_rate = default_weight / accepted_weight if accepted_weight > 0 else 0\n",
    "    default_rates.append(default_rate)\n",
    "    \n",
    "    # Calculate the weighted profit\n",
    "    accepted_good_weight = accepted[accepted['GB'] == 0]['_freq_'].sum()\n",
    "    accepted_default_weight = default_weight  # Already calculated above\n",
    "    \n",
    "    revenue = accepted_good_weight * expected_revenue\n",
    "    cost = accepted_default_weight * expected_cost\n",
    "    profit = revenue - cost\n",
    "    profits.append(profit)\n",
    "\n",
    "# Create a Plotly figure\n",
    "fig = go.Figure()\n",
    "\n",
    "# Plot Acceptance Rate on the left y-axis\n",
    "fig.add_trace(go.Scatter(\n",
    "    x=thresholds,\n",
    "    y=acceptance_rates,\n",
    "    mode='lines',\n",
    "    name='Acceptance Rate (%)',\n",
    "    line=dict(color='skyblue')\n",
    "))\n",
    "\n",
    "# Plot Profit on a separate right y-axis\n",
    "fig.add_trace(go.Scatter(\n",
    "    x=thresholds,\n",
    "    y=profits,\n",
    "    mode='lines',\n",
    "    name='Profit',\n",
    "    line=dict(color='green'),\n",
    "    yaxis='y2'\n",
    "))\n",
    "\n",
    "# Update layout to have dual axes\n",
    "fig.update_layout(\n",
    "    title='Acceptance Rate and Profit at Different Scorecard Values',\n",
    "    xaxis=dict(title='Scorecard Value'),\n",
    "    yaxis=dict(\n",
    "        title='Acceptance Rate (%)',\n",
    "        titlefont=dict(color='skyblue'),\n",
    "        tickfont=dict(color='skyblue')\n",
    "    ),\n",
    "    yaxis2=dict(\n",
    "        title='Profit',\n",
    "        titlefont=dict(color='green'),\n",
    "        tickfont=dict(color='green'),\n",
    "        overlaying='y',\n",
    "        side='right'\n",
    "    ),\n",
    "    template='plotly_white',\n",
    "     width = 800,\n",
    "    height = 500\n",
    ")\n",
    "\n",
    "fig.update_layout(showlegend=False)\n",
    "\n",
    "\n",
    "# Show the plot\n",
    "fig.show()\n"
   ]
  }
 ],
 "metadata": {
  "kernelspec": {
   "display_name": "base",
   "language": "python",
   "name": "python3"
  },
  "language_info": {
   "codemirror_mode": {
    "name": "ipython",
    "version": 3
   },
   "file_extension": ".py",
   "mimetype": "text/x-python",
   "name": "python",
   "nbconvert_exporter": "python",
   "pygments_lexer": "ipython3",
   "version": "3.11.7"
  }
 },
 "nbformat": 4,
 "nbformat_minor": 2
}
